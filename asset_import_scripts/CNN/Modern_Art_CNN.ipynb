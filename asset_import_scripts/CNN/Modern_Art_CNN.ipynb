{
  "nbformat": 4,
  "nbformat_minor": 0,
  "metadata": {
    "colab": {
      "name": "Modern_Art_CNN",
      "provenance": [],
      "collapsed_sections": [],
      "toc_visible": true
    },
    "kernelspec": {
      "name": "python3",
      "display_name": "Python 3"
    }
  },
  "cells": [
    {
      "cell_type": "markdown",
      "metadata": {
        "id": "aLEPgHknmiCW",
        "colab_type": "text"
      },
      "source": [
        "# Convolutional neural network for artwork recognition"
      ]
    },
    {
      "cell_type": "markdown",
      "metadata": {
        "id": "GTx6bSbDmwQQ",
        "colab_type": "text"
      },
      "source": [
        "## Input dataset processing"
      ]
    },
    {
      "cell_type": "code",
      "metadata": {
        "id": "_D3cNvfcQEKY",
        "colab_type": "code",
        "colab": {
          "base_uri": "https://localhost:8080/",
          "height": 72
        },
        "outputId": "451f5033-8210-46cc-9611-c37ebfd53f99"
      },
      "source": [
        "import cv2, math, os, pickle, sys\n",
        "import numpy as np\n",
        "import pandas as pd\n",
        "import seaborn as sn\n",
        "\n",
        "%tensorflow_version 2.x\n",
        "import tensorflow as tf\n",
        "\n",
        "from google.colab import drive\n",
        "# cv2_imshow is needed since cv2.imshow crashes jupyter notebooks\n",
        "from google.colab.patches import cv2_imshow\n",
        "\n",
        "from matplotlib import pyplot as plt\n",
        "%matplotlib inline\n",
        "plt.rcParams['figure.dpi'] = 120\n",
        "\n",
        "from pathlib import Path\n",
        "\n",
        "from sklearn.metrics import classification_report, roc_curve, confusion_matrix\n",
        "from sklearn.utils.multiclass import unique_labels\n",
        "from sklearn.model_selection import train_test_split\n",
        "\n",
        "from tensorflow.keras.utils import to_categorical\n",
        "from tensorflow.keras.models import Sequential, Model, load_model\n",
        "from tensorflow.keras.layers import Dense, Dropout, Flatten, MaxPooling2D, LeakyReLU\n",
        "from tensorflow.keras.layers import Conv2D, Input, Lambda, GlobalAveragePooling2D\n",
        "from tensorflow.keras.applications import VGG19\n",
        "# from tensorflow.keras.applications.vgg16 import preprocess_input\n",
        "from tensorflow.keras.preprocessing import image\n",
        "from tensorflow.keras.preprocessing.image import ImageDataGenerator\n",
        "# from tensorflow.keras.layers.normalization import BatchNormalization\n",
        "# from tensorflow.keras.layers.advanced_activations import \n",
        "\n",
        "from tqdm.notebook import tqdm"
      ],
      "execution_count": null,
      "outputs": [
        {
          "output_type": "stream",
          "text": [
            "/usr/local/lib/python3.6/dist-packages/statsmodels/tools/_testing.py:19: FutureWarning: pandas.util.testing is deprecated. Use the functions in the public API at pandas.testing instead.\n",
            "  import pandas.util.testing as tm\n"
          ],
          "name": "stderr"
        }
      ]
    },
    {
      "cell_type": "code",
      "metadata": {
        "id": "2Ajgc5CyLNUm",
        "colab_type": "code",
        "colab": {
          "base_uri": "https://localhost:8080/",
          "height": 34
        },
        "outputId": "17784a99-66b8-40ff-9dc0-851d19efdd5e"
      },
      "source": [
        "# mount GDrive \n",
        "drive.mount(\"/content/drive\", force_remount=True)\n",
        "# add directory to path, so we can import the external python script for extracting frames\n",
        "# sys.path.insert(0, \"/content/drive/My Drive/Colab Notebooks/Modern_Art_CNN\")\n",
        "\n",
        "base_dir = Path(\"/content/drive/My Drive/Colab Notebooks/Modern_Art_CNN\")\n",
        "files_dir = base_dir / \"contemporary_art_video_files\""
      ],
      "execution_count": null,
      "outputs": [
        {
          "output_type": "stream",
          "text": [
            "Mounted at /content/drive\n"
          ],
          "name": "stdout"
        }
      ]
    },
    {
      "cell_type": "code",
      "metadata": {
        "id": "zJ-xZ4BpvsMR",
        "colab_type": "code",
        "colab": {
          "base_uri": "https://localhost:8080/",
          "height": 156
        },
        "outputId": "ef062751-e1b6-4bd4-cff3-6503be7bfc4b"
      },
      "source": [
        "# install required dependency\n",
        "!pip install scikit-video"
      ],
      "execution_count": null,
      "outputs": [
        {
          "output_type": "stream",
          "text": [
            "Collecting scikit-video\n",
            "\u001b[?25l  Downloading https://files.pythonhosted.org/packages/b1/a6/c69cad508139a342810ae46e946ebb3256aa6e42f690d901bb68f50582e3/scikit_video-1.1.11-py2.py3-none-any.whl (2.3MB)\n",
            "\u001b[K     |████████████████████████████████| 2.3MB 2.7MB/s \n",
            "\u001b[?25hRequirement already satisfied: scipy in /usr/local/lib/python3.6/dist-packages (from scikit-video) (1.4.1)\n",
            "Requirement already satisfied: pillow in /usr/local/lib/python3.6/dist-packages (from scikit-video) (7.0.0)\n",
            "Requirement already satisfied: numpy in /usr/local/lib/python3.6/dist-packages (from scikit-video) (1.18.5)\n",
            "Installing collected packages: scikit-video\n",
            "Successfully installed scikit-video-1.1.11\n"
          ],
          "name": "stdout"
        }
      ]
    },
    {
      "cell_type": "code",
      "metadata": {
        "id": "IZrEOoDSuht5",
        "colab_type": "code",
        "colab": {}
      },
      "source": [
        "# import extenal video processing script\n",
        "# from video_processing import video_processing"
      ],
      "execution_count": null,
      "outputs": []
    },
    {
      "cell_type": "code",
      "metadata": {
        "id": "pN_dQQ4l5zWv",
        "colab_type": "code",
        "colab": {}
      },
      "source": [
        "import pickle\n",
        "import skvideo.io\n",
        "\n",
        "\n",
        "def get_video_rotation(video_path: str):\n",
        "    \"\"\" Reads video rotation from video metadata.\n",
        "\n",
        "    :param video_path: path to the video file\n",
        "    :return: rotation of video in int degrees (e.g. 90, 180)\n",
        "    :raises AssertionError if rotation is not available, files doesn't exist, or file doesn't have metadata\n",
        "    \"\"\"\n",
        "    metadata = skvideo.io.ffprobe(video_path)\n",
        "    for tags in metadata[\"video\"][\"tag\"]:\n",
        "        # we get OrderedDicts here\n",
        "        if tags[\"@key\"] == \"rotate\":\n",
        "            return int(tags['@value'])\n",
        "    else:\n",
        "        raise AssertionError(f\"Couldn't get rotation for {video_path}, either file doesn't exist, does not contain \"\n",
        "                             f\"metadata, or rotation is not included in its metadata.\")\n",
        "\n",
        "\n",
        "def extract_video_frames(video_path: Path, save_as_files: bool = False):\n",
        "    \"\"\" Extracts all frames from the provided video, and optionally saves them as individual images in a directory with\n",
        "    the same name as the video.\n",
        "\n",
        "    :param video_path: path to the video file\n",
        "    :param save_as_files: whether to save extracted frames as individual image files\n",
        "    :return: list of extracted frames\n",
        "    \"\"\"\n",
        "    frame_dest = \"\"\n",
        "    if save_as_files:\n",
        "        # create frame destination dir and make sure it exists\n",
        "        frame_dest = video_path.parent / video_path.stem\n",
        "        frame_dest.mkdir(exist_ok=True)\n",
        "\n",
        "    video_rotation = 0\n",
        "    try:\n",
        "        video_rotation = get_video_rotation(str(video_path))\n",
        "    except AssertionError as e:\n",
        "        print(e)\n",
        "\n",
        "    count = 0\n",
        "\n",
        "    vidcap = cv2.VideoCapture(str(video_path))\n",
        "    success, frame = vidcap.read()\n",
        "\n",
        "    all_frames = []\n",
        "\n",
        "    while success:\n",
        "        if count % 5 == 0:  # only save 1/5 of the frames \n",
        "            if video_rotation != 0:\n",
        "                frame = rotate_frame(frame, video_rotation)\n",
        "\n",
        "            frame = resize(frame)\n",
        "\n",
        "            if save_as_files:\n",
        "                cv2.imwrite(str(frame_dest / f\"{video_path.stem}_{count}.jpg\"), frame)\n",
        "\n",
        "            all_frames.append(np.copy(frame))\n",
        "\n",
        "        success, frame = vidcap.read()\n",
        "        count += 1\n",
        "\n",
        "    return all_frames\n",
        "\n",
        "\n",
        "def rotate_frame(frame: np.ndarray, degrees: int):\n",
        "    \"\"\" Rotates the provided frame 90, 180, or 270 degrees; any other value of degrees is ignored, and the original\n",
        "    frame is returned un-rotated.\n",
        "\n",
        "    :param frame: frame to be rotated\n",
        "    :param degrees: degrees of rotation, must be either 90, 180, or 270, any other values are ignored\n",
        "    :return: the rotated frame\n",
        "    \"\"\"\n",
        "    if degrees == 90:\n",
        "        return cv2.rotate(frame, cv2.ROTATE_90_CLOCKWISE)\n",
        "    elif degrees == 180:\n",
        "        return cv2.rotate(frame, cv2.ROTATE_180)\n",
        "    elif degrees == 270:\n",
        "        return cv2.rotate(frame, cv2.ROTATE_90_COUNTERCLOCKWISE)\n",
        "    else:\n",
        "        return frame\n",
        "\n",
        "\n",
        "def resize(frame: np.ndarray, target_dim: int = 224):\n",
        "    \"\"\" Resizes the provided frame to a square with the provided dimension as its sides.\n",
        "\n",
        "    :param frame: frame to be resized\n",
        "    :param target_dim: the required side length of the resized frame (optional)\n",
        "    :return: the resized frame\n",
        "    \"\"\"\n",
        "    return cv2.resize(frame, (target_dim, target_dim), interpolation=cv2.INTER_AREA)\n",
        "\n",
        "\n",
        "def video_processing(video_files_dir: Path):\n",
        "    dataset = pd.read_csv(video_files_dir / \"description_export.csv\")\n",
        "\n",
        "    # dict with all artwork IDs, as well as a corresponding numerical value\n",
        "    artwork_dict = {artwork_id: i for i, artwork_id in enumerate(sorted(dataset[\"id\"].unique()))}\n",
        "\n",
        "    photos, labels = [], []\n",
        "    t = tqdm(total=dataset.shape[0])\n",
        "    total_frames = 0\n",
        "\n",
        "    # process all video files\n",
        "    for i in range(dataset.shape[0]):\n",
        "        video_file_row = dataset.iloc[i]\n",
        "\n",
        "        t.set_postfix_str(f\"Processing file {video_file_row['file']} (total frames for far: {total_frames})\")\n",
        "\n",
        "        video_frames = extract_video_frames(video_files_dir / video_file_row[\"file\"])\n",
        "\n",
        "        frame_labels = [video_file_row[\"id\"]] * len(video_frames)\n",
        "\n",
        "        photos.extend(video_frames)\n",
        "        labels.extend(frame_labels)\n",
        "\n",
        "        total_frames += len(video_frames)\n",
        "        t.update()\n",
        "\n",
        "    t.close()\n",
        "\n",
        "    # return results as a single dict\n",
        "    return {\"photos\": photos, \"labels\": labels}"
      ],
      "execution_count": null,
      "outputs": []
    },
    {
      "cell_type": "code",
      "metadata": {
        "id": "HATT0Ls6w7J9",
        "colab_type": "code",
        "colab": {}
      },
      "source": [
        "# process and save exported frames\n",
        "# processed = video_processing(files_dir)\n",
        "# with open(files_dir / \"processed\", \"wb+\") as f:\n",
        "#     pickle.dump(processed, f)"
      ],
      "execution_count": null,
      "outputs": []
    },
    {
      "cell_type": "markdown",
      "metadata": {
        "id": "horqiD_kQ_SE",
        "colab_type": "text"
      },
      "source": [
        "Import and process annotations .csv file.\n"
      ]
    },
    {
      "cell_type": "code",
      "metadata": {
        "id": "D4GApN4Yzh_G",
        "colab_type": "code",
        "colab": {
          "base_uri": "https://localhost:8080/",
          "height": 72
        },
        "outputId": "19265e52-b585-4975-e321-2ed245ddeb55"
      },
      "source": [
        "dataset = pd.read_csv(files_dir / \"description_export.csv\")\n",
        "artwork_dict = {artwork_id: i for i, artwork_id in enumerate(sorted(dataset[\"id\"].unique()))}\n",
        "num_classes = len(artwork_dict)\n",
        "class_list = artwork_dict.keys()\n",
        "print(artwork_dict)\n",
        "print(class_list)"
      ],
      "execution_count": null,
      "outputs": [
        {
          "output_type": "stream",
          "text": [
            "{'bargilly_andis_secession': 0, 'chrysochos_andreas_autumn': 1, 'chrysochos_andreas_game_of_shapes': 2, 'chrysochos_andreas_throne_ii': 3, 'hadjida_vera_ground_plan': 4, 'hadjida_vera_untitled': 5, 'kouroussis_nicos_untitled': 6, 'ladommatos_andreas_ascent': 7, 'phinikarides_michael_armament': 8, 'sfikas_george_2-3': 9, 'votsis_stelios_presence': 10, 'votsis_stelios_the_cyclist': 11, 'votsis_stelios_untitled': 12}\n",
            "dict_keys(['bargilly_andis_secession', 'chrysochos_andreas_autumn', 'chrysochos_andreas_game_of_shapes', 'chrysochos_andreas_throne_ii', 'hadjida_vera_ground_plan', 'hadjida_vera_untitled', 'kouroussis_nicos_untitled', 'ladommatos_andreas_ascent', 'phinikarides_michael_armament', 'sfikas_george_2-3', 'votsis_stelios_presence', 'votsis_stelios_the_cyclist', 'votsis_stelios_untitled'])\n"
          ],
          "name": "stdout"
        }
      ]
    },
    {
      "cell_type": "markdown",
      "metadata": {
        "id": "dfi_GPPmRJBX",
        "colab_type": "text"
      },
      "source": [
        "## Create and train CNN"
      ]
    },
    {
      "cell_type": "markdown",
      "metadata": {
        "id": "YJWoTntoLEIa",
        "colab_type": "text"
      },
      "source": [
        "Function that splits the input data into train, validation, and test subsets.\n"
      ]
    },
    {
      "cell_type": "code",
      "metadata": {
        "id": "ksMycJwBLJiH",
        "colab_type": "code",
        "colab": {}
      },
      "source": [
        "def split_data(file_path):\n",
        "    # read data\n",
        "    with open(file_path, \"rb\") as f:\n",
        "        f.seek(0)\n",
        "        data = pickle.load(f)\n",
        "\n",
        "    # infer image resolution (assumes square images!)\n",
        "    img_dim = data[\"photos\"][0].shape[0]\n",
        "\n",
        "    # split data to images and labels\n",
        "    data_x = np.array(data[\"photos\"])\n",
        "    print(data[\"labels\"])\n",
        "    data_y = np.array([artwork_dict[i] for i in data[\"labels\"]])\n",
        "    # data_y = np.array(data[\"labels\"])\n",
        "    print(data_y)\n",
        "\n",
        "    print(data_x.shape, data_y.shape)\n",
        "\n",
        "    # split to training and testing subsets\n",
        "    train_X, test_X, train_Y, test_Y = train_test_split(data_x, data_y, \n",
        "                                                        test_size=0.2, \n",
        "                                                        random_state=0)\n",
        "\n",
        "    # reshape data to 2D arrays\n",
        "    # train_X = train_X.reshape(-1, img_dim, img_dim, z)\n",
        "    # test_X = test_X.reshape(-1, img_dim, img_dim, z)\n",
        "\n",
        "    # convert pixel values to 0-1 scale\n",
        "    train_X = train_X.astype('float32')\n",
        "    test_X = test_X.astype('float32')\n",
        "    train_X = train_X / 255.\n",
        "    test_X = test_X / 255.\n",
        "\n",
        "    # change the labels from categorical to one-hot encoding\n",
        "    train_Y_one_hot = to_categorical(train_Y)\n",
        "    test_Y_one_hot = to_categorical(test_Y)\n",
        "\n",
        "    # split train data again to create validation subset\n",
        "    train_X,valid_X,train_label,valid_label = train_test_split(\n",
        "        train_X, train_Y_one_hot, test_size=0.2, random_state=0)\n",
        "    \n",
        "    # d = CnnData(train_X=train_X, valid_X=valid_X, train_label=train_label,\n",
        "    #             valid_label=valid_label, test_X=test_X, test_Y=test_Y,\n",
        "    #             test_Y_one_hot=test_Y_one_hot, img_dim=img_dim)\n",
        "\n",
        "    # package results in dictionary\n",
        "    res = {\"trX\": train_X,\"valX\": valid_X,\n",
        "            \"trLab\": train_label, \"valLab\": valid_label, \n",
        "            \"tesX\": test_X, \"tesYhot\": test_Y_one_hot, \"tesY\": test_Y,\n",
        "            \"img_dim\": img_dim}\n",
        "    \n",
        "    return res"
      ],
      "execution_count": null,
      "outputs": []
    },
    {
      "cell_type": "markdown",
      "metadata": {
        "id": "IdMxGqeccwSQ",
        "colab_type": "text"
      },
      "source": [
        "Function to create and compile the ConvNet model."
      ]
    },
    {
      "cell_type": "code",
      "metadata": {
        "id": "RB-Y6Am3QdFo",
        "colab_type": "code",
        "colab": {}
      },
      "source": [
        "# NOT USED for modern art recognition models, see VGG19 below\n",
        "\n",
        "def create_conv_net_model(img_dim, RGB=True):\n",
        "    # dimension of photo depending if RGB or grayscale  \n",
        "    z = 3 if RGB else 1\n",
        "\n",
        "    # set up convNet model\n",
        "    # configuration of the model from this tutorial:\n",
        "    # https://www.datacamp.com/community/tutorials/convolutional-neural-networks-python\n",
        "    model = Sequential()\n",
        "    model.add(Conv2D(32, kernel_size=(3, 3),activation='linear',\n",
        "                        padding='same',input_shape=(img_dim,img_dim,z)))\n",
        "    model.add(LeakyReLU(alpha=0.1))\n",
        "    model.add(MaxPooling2D((2, 2),padding='same'))\n",
        "    model.add(Dropout(0.25))\n",
        "    model.add(Conv2D(64, (3, 3), activation='linear',padding='same'))\n",
        "    model.add(LeakyReLU(alpha=0.1))\n",
        "    model.add(MaxPooling2D(pool_size=(2, 2),padding='same'))\n",
        "    model.add(Dropout(0.25))\n",
        "    model.add(Conv2D(128, (3, 3), activation='linear',padding='same'))\n",
        "    model.add(LeakyReLU(alpha=0.1))                  \n",
        "    model.add(MaxPooling2D(pool_size=(2, 2),padding='same'))\n",
        "    model.add(Dropout(0.4))\n",
        "    model.add(Flatten())\n",
        "    model.add(Dense(128, activation='linear'))\n",
        "    model.add(LeakyReLU(alpha=0.1))           \n",
        "    model.add(Dropout(0.3))\n",
        "    model.add(Dense(num_classes, activation='softmax'))\n",
        "\n",
        "    # compile model\n",
        "    model.compile(loss=\"categorical_crossentropy\", optimizer=\"adam\",\n",
        "                  metrics=['accuracy'])\n",
        "    \n",
        "    return model"
      ],
      "execution_count": null,
      "outputs": []
    },
    {
      "cell_type": "code",
      "metadata": {
        "id": "NZ-uzngtr6CR",
        "colab_type": "code",
        "colab": {}
      },
      "source": [
        "def create_VGG19_CNN(img_dim, RGB=True):\n",
        "    img_dim = 224  # must always be 224 for VGG19\n",
        "    \n",
        "    z = 3 if RGB else 1  # dimension of photo depending if RGB or grayscale\n",
        "\n",
        "    vggModel = VGG19(include_top=False, weights=\"imagenet\", \n",
        "                     input_tensor=Input(shape=(img_dim, img_dim, z)))\n",
        "\n",
        "    outputs = vggModel.output\n",
        "    outputs = Flatten(name=\"flatten\")(outputs)\n",
        "    outputs = Dropout(0.5)(outputs)\n",
        "    outputs = Dense(num_classes, activation=\"softmax\")(outputs)\n",
        "\n",
        "    model = Model(inputs=vggModel.input, outputs=outputs)\n",
        "\n",
        "    for layer in vggModel.layers:\n",
        "        layer.trainable = False\n",
        "\n",
        "    model.compile(loss=\"categorical_crossentropy\", optimizer=\"adam\",\n",
        "                  metrics=['accuracy'])\n",
        "    \n",
        "    return model"
      ],
      "execution_count": null,
      "outputs": []
    },
    {
      "cell_type": "markdown",
      "metadata": {
        "id": "WEhxId_jc_Vm",
        "colab_type": "text"
      },
      "source": [
        "Function that trains and evaluates the network."
      ]
    },
    {
      "cell_type": "code",
      "metadata": {
        "id": "kPsaPRWpHms_",
        "colab_type": "code",
        "colab": {}
      },
      "source": [
        "def train_CNN(target_size, epochs=50, RGB=True, batch_size=64, verbose=1, \n",
        "              convert_to_TFlite=True, show_summary=True, VGG19=True):\n",
        "    \n",
        "    # if using VGG19, target_size must be 224\n",
        "    if VGG19: target_size = 224\n",
        "\n",
        "    # create model name\n",
        "    model_name = f\"cnn{target_size}\" \n",
        "    if RGB: model_name += \"RGB\"\n",
        "    else: model_name += \"grayscale\"\n",
        "    if VGG19: model_name += \"_VGG19\"\n",
        "\n",
        "    # input_data_file = p_join(base_dir, model_name, f\"{model_name}_data\")\n",
        "\n",
        "    # dir structure for created files: \n",
        "        # base_dir/model_name/model_name_data.csv\n",
        "        # base_dir/model_name/saved_model\n",
        "        # base_dir/model_name/tflite/model_name.tflite\n",
        "        # base_dir/model_name/tflite/model_name_labels.txt\n",
        "\n",
        "    # if not input_data_file.is_file() or force_photo_reprocessing:\n",
        "    #     # process photos\n",
        "    #     print(\"Processing photos to provided specifications...\")\n",
        "    #     process_photos(input_data_file, target_size, RGB=RGB)\n",
        "    #     print(\"Done!\")\n",
        "    # else:\n",
        "    #     # skip processing, already processed file exists\n",
        "    #     print(\"Photos already processed, skipping reprosessing.\")\n",
        "\n",
        "    # load pickled file\n",
        "    # with open(files_dir / \"processed\", \"rb\") as f:\n",
        "    #     f.seek(0)\n",
        "    #     input_data_file = pickle.load(f)\n",
        "\n",
        "    # split dataset\n",
        "    print(\"Splitting dataset...\", end=\" \", flush=True)\n",
        "    data = split_data(files_dir / \"processed\")\n",
        "    print(\"Done!\", flush=True)\n",
        "\n",
        "    # create and train CNN\n",
        "    print(\"Training neural network...\")\n",
        "    if VGG19:\n",
        "        model = create_VGG19_CNN(target_size, RGB=RGB)\n",
        "\n",
        "        train_aug = ImageDataGenerator(\n",
        "            rotation_range=20,\n",
        "            width_shift_range=0.2,\n",
        "            height_shift_range=0.2,\n",
        "            horizontal_flip=True)\n",
        "        model_train_info = model.fit(train_aug.flow(data[\"trX\"], data[\"trLab\"], batch_size),\n",
        "                                     validation_data=(data[\"valX\"], data[\"valLab\"]),\n",
        "                                     epochs=epochs)\n",
        "    else:\n",
        "        model = create_conv_net_model(target_size, RGB=RGB)\n",
        "        model_train_info = model.fit(data[\"trX\"], data[\"trLab\"], batch_size, epochs,\n",
        "                                        verbose, validation_data=(data[\"valX\"],\n",
        "                                                                data[\"valLab\"]))\n",
        "    print(\"Training complete.\")\n",
        "\n",
        "    # evaluate model\n",
        "    print(\"Evaluating neural network...\", end=\" \", flush=True)\n",
        "    test_eval = model.evaluate(data[\"tesX\"], data[\"tesYhot\"], verbose=1)\n",
        "\n",
        "    # get training info\n",
        "    accuracy = model_train_info.history['accuracy']\n",
        "    val_accuracy = model_train_info.history['val_accuracy']\n",
        "    loss = model_train_info.history['loss']\n",
        "    val_loss = model_train_info.history['val_loss']\n",
        "\n",
        "    # make predictions\n",
        "    predicted_classes = model.predict(data[\"tesX\"])\n",
        "    predicted_classes = np.argmax(np.round(predicted_classes), axis=1)\n",
        "\n",
        "    # create classification report\n",
        "    target_names = class_list\n",
        "    report = classification_report(data[\"tesY\"], predicted_classes, \n",
        "                            target_names=target_names, output_dict=True)\n",
        "    report = pd.DataFrame(report)\n",
        "\n",
        "    # create confusion matrix\n",
        "    cm = confusion_matrix(data[\"tesY\"], predicted_classes)\n",
        "    df_cm = pd.DataFrame(cm, class_list, class_list)\n",
        "\n",
        "    # package results \n",
        "    res = {\"test_eval\": test_eval, \"accuracy\": accuracy, \n",
        "           \"val_accuracy\": val_accuracy, \"loss\": loss, \"val_loss\": val_loss,\n",
        "           \"predicted_classes\": predicted_classes, \"test_Y\": data[\"tesY\"], \n",
        "           \"test_X\": data[\"tesX\"], \"confusion_matrix\": df_cm, \"report\": report,\n",
        "           \"model\": model}\n",
        "\n",
        "    print(\"Done!\", flush=True)\n",
        "\n",
        "    # save model\n",
        "    saved_model_path = Path(base_dir, model_name, \"saved_model\")\n",
        "    model.save(saved_model_path)\n",
        "\n",
        "    # Convert model to tflite\n",
        "    if convert_to_TFlite:\n",
        "        print(\"Converting neural network to TFLite...\", end=\" \", flush=True)\n",
        "\n",
        "        # first convert to normal tflite\n",
        "        converter = tf.lite.TFLiteConverter.from_saved_model(str(saved_model_path))\n",
        "        tflite_model = converter.convert()\n",
        "\n",
        "        # second convert to quantized tflite\n",
        "        converter.optimizations = [tf.lite.Optimize.DEFAULT]\n",
        "        tflite_quant_model = converter.convert()\n",
        "\n",
        "        tflite_dir = Path(base_dir) / model_name / \"tflite\"\n",
        "        tflite_dir.mkdir(parents=True, exist_ok=True)\n",
        "        \n",
        "        with tf.io.gfile.GFile(str(tflite_dir / f\"{model_name}.tflite\"), \"wb\") as f:\n",
        "            f.write(tflite_model)\n",
        "\n",
        "        with tf.io.gfile.GFile(str(tflite_dir / f\"{model_name}_quant.tflite\"), \"wb\") as f:\n",
        "            f.write(tflite_quant_model)\n",
        "\n",
        "        # save txt file with labels, ready for use in mobile device\n",
        "        labels_file = Path(tflite_dir, f\"{model_name}_labels.txt\")\n",
        "\n",
        "        # write to file\n",
        "        with open(labels_file, \"w+\") as f:\n",
        "            for label in list(class_list):\n",
        "                f.write(label + \"\\n\")\n",
        "        print(\"Done!\", flush=True)\n",
        "\n",
        "    # show results\n",
        "    if show_summary:\n",
        "        print('Test loss:', test_eval[0])\n",
        "        print('Test accuracy:', test_eval[1])\n",
        "\n",
        "    return res"
      ],
      "execution_count": null,
      "outputs": []
    },
    {
      "cell_type": "code",
      "metadata": {
        "id": "Epwd4klMnwDc",
        "colab_type": "code",
        "colab": {
          "base_uri": "https://localhost:8080/",
          "height": 1000
        },
        "outputId": "bafce723-d58f-4bef-eadd-92139dbb7dfe"
      },
      "source": [
        "cnn224RGB_VGG19 = train_CNN(224, epochs=20, VGG19=True)"
      ],
      "execution_count": null,
      "outputs": [
        {
          "output_type": "stream",
          "text": [
            "Splitting dataset... ['bargilly_andis_secession', 'bargilly_andis_secession', 'bargilly_andis_secession', 'bargilly_andis_secession', 'bargilly_andis_secession', 'bargilly_andis_secession', 'bargilly_andis_secession', 'bargilly_andis_secession', 'bargilly_andis_secession', 'bargilly_andis_secession', 'bargilly_andis_secession', 'bargilly_andis_secession', 'bargilly_andis_secession', 'bargilly_andis_secession', 'bargilly_andis_secession', 'bargilly_andis_secession', 'bargilly_andis_secession', 'bargilly_andis_secession', 'bargilly_andis_secession', 'bargilly_andis_secession', 'bargilly_andis_secession', 'bargilly_andis_secession', 'bargilly_andis_secession', 'bargilly_andis_secession', 'bargilly_andis_secession', 'bargilly_andis_secession', 'bargilly_andis_secession', 'bargilly_andis_secession', 'bargilly_andis_secession', 'bargilly_andis_secession', 'bargilly_andis_secession', 'bargilly_andis_secession', 'bargilly_andis_secession', 'bargilly_andis_secession', 'bargilly_andis_secession', 'bargilly_andis_secession', 'bargilly_andis_secession', 'bargilly_andis_secession', 'bargilly_andis_secession', 'bargilly_andis_secession', 'bargilly_andis_secession', 'bargilly_andis_secession', 'bargilly_andis_secession', 'bargilly_andis_secession', 'bargilly_andis_secession', 'bargilly_andis_secession', 'bargilly_andis_secession', 'bargilly_andis_secession', 'bargilly_andis_secession', 'bargilly_andis_secession', 'bargilly_andis_secession', 'bargilly_andis_secession', 'bargilly_andis_secession', 'bargilly_andis_secession', 'bargilly_andis_secession', 'bargilly_andis_secession', 'bargilly_andis_secession', 'bargilly_andis_secession', 'bargilly_andis_secession', 'bargilly_andis_secession', 'bargilly_andis_secession', 'bargilly_andis_secession', 'bargilly_andis_secession', 'bargilly_andis_secession', 'bargilly_andis_secession', 'bargilly_andis_secession', 'bargilly_andis_secession', 'bargilly_andis_secession', 'bargilly_andis_secession', 'bargilly_andis_secession', 'bargilly_andis_secession', 'bargilly_andis_secession', 'bargilly_andis_secession', 'bargilly_andis_secession', 'bargilly_andis_secession', 'bargilly_andis_secession', 'bargilly_andis_secession', 'bargilly_andis_secession', 'bargilly_andis_secession', 'bargilly_andis_secession', 'bargilly_andis_secession', 'bargilly_andis_secession', 'bargilly_andis_secession', 'bargilly_andis_secession', 'bargilly_andis_secession', 'bargilly_andis_secession', 'bargilly_andis_secession', 'bargilly_andis_secession', 'bargilly_andis_secession', 'bargilly_andis_secession', 'bargilly_andis_secession', 'bargilly_andis_secession', 'bargilly_andis_secession', 'bargilly_andis_secession', 'bargilly_andis_secession', 'bargilly_andis_secession', 'bargilly_andis_secession', 'bargilly_andis_secession', 'bargilly_andis_secession', 'bargilly_andis_secession', 'bargilly_andis_secession', 'bargilly_andis_secession', 'bargilly_andis_secession', 'bargilly_andis_secession', 'bargilly_andis_secession', 'bargilly_andis_secession', 'bargilly_andis_secession', 'bargilly_andis_secession', 'bargilly_andis_secession', 'bargilly_andis_secession', 'bargilly_andis_secession', 'bargilly_andis_secession', 'bargilly_andis_secession', 'bargilly_andis_secession', 'bargilly_andis_secession', 'bargilly_andis_secession', 'bargilly_andis_secession', 'bargilly_andis_secession', 'bargilly_andis_secession', 'bargilly_andis_secession', 'bargilly_andis_secession', 'bargilly_andis_secession', 'bargilly_andis_secession', 'bargilly_andis_secession', 'bargilly_andis_secession', 'bargilly_andis_secession', 'bargilly_andis_secession', 'bargilly_andis_secession', 'bargilly_andis_secession', 'bargilly_andis_secession', 'bargilly_andis_secession', 'bargilly_andis_secession', 'bargilly_andis_secession', 'bargilly_andis_secession', 'bargilly_andis_secession', 'bargilly_andis_secession', 'bargilly_andis_secession', 'bargilly_andis_secession', 'bargilly_andis_secession', 'bargilly_andis_secession', 'bargilly_andis_secession', 'bargilly_andis_secession', 'bargilly_andis_secession', 'bargilly_andis_secession', 'bargilly_andis_secession', 'bargilly_andis_secession', 'bargilly_andis_secession', 'bargilly_andis_secession', 'bargilly_andis_secession', 'bargilly_andis_secession', 'bargilly_andis_secession', 'bargilly_andis_secession', 'bargilly_andis_secession', 'bargilly_andis_secession', 'bargilly_andis_secession', 'bargilly_andis_secession', 'bargilly_andis_secession', 'bargilly_andis_secession', 'bargilly_andis_secession', 'bargilly_andis_secession', 'bargilly_andis_secession', 'bargilly_andis_secession', 'bargilly_andis_secession', 'bargilly_andis_secession', 'bargilly_andis_secession', 'bargilly_andis_secession', 'bargilly_andis_secession', 'bargilly_andis_secession', 'bargilly_andis_secession', 'bargilly_andis_secession', 'bargilly_andis_secession', 'bargilly_andis_secession', 'bargilly_andis_secession', 'bargilly_andis_secession', 'bargilly_andis_secession', 'bargilly_andis_secession', 'bargilly_andis_secession', 'bargilly_andis_secession', 'bargilly_andis_secession', 'bargilly_andis_secession', 'bargilly_andis_secession', 'bargilly_andis_secession', 'bargilly_andis_secession', 'bargilly_andis_secession', 'bargilly_andis_secession', 'bargilly_andis_secession', 'bargilly_andis_secession', 'bargilly_andis_secession', 'bargilly_andis_secession', 'bargilly_andis_secession', 'bargilly_andis_secession', 'bargilly_andis_secession', 'bargilly_andis_secession', 'bargilly_andis_secession', 'bargilly_andis_secession', 'bargilly_andis_secession', 'bargilly_andis_secession', 'bargilly_andis_secession', 'bargilly_andis_secession', 'bargilly_andis_secession', 'bargilly_andis_secession', 'bargilly_andis_secession', 'bargilly_andis_secession', 'bargilly_andis_secession', 'bargilly_andis_secession', 'bargilly_andis_secession', 'bargilly_andis_secession', 'bargilly_andis_secession', 'bargilly_andis_secession', 'bargilly_andis_secession', 'bargilly_andis_secession', 'bargilly_andis_secession', 'bargilly_andis_secession', 'bargilly_andis_secession', 'bargilly_andis_secession', 'bargilly_andis_secession', 'bargilly_andis_secession', 'bargilly_andis_secession', 'bargilly_andis_secession', 'bargilly_andis_secession', 'bargilly_andis_secession', 'bargilly_andis_secession', 'bargilly_andis_secession', 'bargilly_andis_secession', 'bargilly_andis_secession', 'bargilly_andis_secession', 'bargilly_andis_secession', 'bargilly_andis_secession', 'bargilly_andis_secession', 'bargilly_andis_secession', 'bargilly_andis_secession', 'bargilly_andis_secession', 'bargilly_andis_secession', 'bargilly_andis_secession', 'bargilly_andis_secession', 'bargilly_andis_secession', 'bargilly_andis_secession', 'bargilly_andis_secession', 'bargilly_andis_secession', 'bargilly_andis_secession', 'bargilly_andis_secession', 'bargilly_andis_secession', 'bargilly_andis_secession', 'bargilly_andis_secession', 'bargilly_andis_secession', 'bargilly_andis_secession', 'bargilly_andis_secession', 'bargilly_andis_secession', 'bargilly_andis_secession', 'bargilly_andis_secession', 'bargilly_andis_secession', 'bargilly_andis_secession', 'bargilly_andis_secession', 'bargilly_andis_secession', 'bargilly_andis_secession', 'bargilly_andis_secession', 'bargilly_andis_secession', 'bargilly_andis_secession', 'bargilly_andis_secession', 'bargilly_andis_secession', 'bargilly_andis_secession', 'bargilly_andis_secession', 'bargilly_andis_secession', 'bargilly_andis_secession', 'bargilly_andis_secession', 'bargilly_andis_secession', 'bargilly_andis_secession', 'bargilly_andis_secession', 'bargilly_andis_secession', 'bargilly_andis_secession', 'bargilly_andis_secession', 'bargilly_andis_secession', 'bargilly_andis_secession', 'bargilly_andis_secession', 'bargilly_andis_secession', 'bargilly_andis_secession', 'bargilly_andis_secession', 'bargilly_andis_secession', 'bargilly_andis_secession', 'bargilly_andis_secession', 'bargilly_andis_secession', 'bargilly_andis_secession', 'bargilly_andis_secession', 'bargilly_andis_secession', 'bargilly_andis_secession', 'bargilly_andis_secession', 'bargilly_andis_secession', 'bargilly_andis_secession', 'bargilly_andis_secession', 'hadjida_vera_ground_plan', 'hadjida_vera_ground_plan', 'hadjida_vera_ground_plan', 'hadjida_vera_ground_plan', 'hadjida_vera_ground_plan', 'hadjida_vera_ground_plan', 'hadjida_vera_ground_plan', 'hadjida_vera_ground_plan', 'hadjida_vera_ground_plan', 'hadjida_vera_ground_plan', 'hadjida_vera_ground_plan', 'hadjida_vera_ground_plan', 'hadjida_vera_ground_plan', 'hadjida_vera_ground_plan', 'hadjida_vera_ground_plan', 'hadjida_vera_ground_plan', 'hadjida_vera_ground_plan', 'hadjida_vera_ground_plan', 'hadjida_vera_ground_plan', 'hadjida_vera_ground_plan', 'hadjida_vera_ground_plan', 'hadjida_vera_ground_plan', 'hadjida_vera_ground_plan', 'hadjida_vera_ground_plan', 'hadjida_vera_ground_plan', 'hadjida_vera_ground_plan', 'hadjida_vera_ground_plan', 'hadjida_vera_ground_plan', 'hadjida_vera_ground_plan', 'hadjida_vera_ground_plan', 'hadjida_vera_ground_plan', 'hadjida_vera_ground_plan', 'hadjida_vera_ground_plan', 'hadjida_vera_ground_plan', 'hadjida_vera_ground_plan', 'hadjida_vera_ground_plan', 'hadjida_vera_ground_plan', 'hadjida_vera_ground_plan', 'hadjida_vera_ground_plan', 'hadjida_vera_ground_plan', 'hadjida_vera_ground_plan', 'hadjida_vera_ground_plan', 'hadjida_vera_ground_plan', 'hadjida_vera_ground_plan', 'hadjida_vera_ground_plan', 'hadjida_vera_ground_plan', 'hadjida_vera_ground_plan', 'hadjida_vera_ground_plan', 'hadjida_vera_ground_plan', 'hadjida_vera_ground_plan', 'hadjida_vera_ground_plan', 'hadjida_vera_ground_plan', 'hadjida_vera_ground_plan', 'hadjida_vera_ground_plan', 'hadjida_vera_ground_plan', 'hadjida_vera_ground_plan', 'hadjida_vera_ground_plan', 'hadjida_vera_ground_plan', 'hadjida_vera_ground_plan', 'hadjida_vera_ground_plan', 'hadjida_vera_ground_plan', 'hadjida_vera_ground_plan', 'hadjida_vera_ground_plan', 'hadjida_vera_ground_plan', 'hadjida_vera_ground_plan', 'hadjida_vera_ground_plan', 'hadjida_vera_ground_plan', 'hadjida_vera_ground_plan', 'hadjida_vera_ground_plan', 'hadjida_vera_ground_plan', 'hadjida_vera_ground_plan', 'hadjida_vera_ground_plan', 'hadjida_vera_ground_plan', 'hadjida_vera_ground_plan', 'hadjida_vera_ground_plan', 'hadjida_vera_ground_plan', 'hadjida_vera_ground_plan', 'hadjida_vera_ground_plan', 'hadjida_vera_ground_plan', 'hadjida_vera_ground_plan', 'hadjida_vera_ground_plan', 'hadjida_vera_ground_plan', 'hadjida_vera_ground_plan', 'hadjida_vera_ground_plan', 'hadjida_vera_ground_plan', 'hadjida_vera_ground_plan', 'hadjida_vera_ground_plan', 'hadjida_vera_ground_plan', 'hadjida_vera_ground_plan', 'hadjida_vera_ground_plan', 'hadjida_vera_ground_plan', 'hadjida_vera_ground_plan', 'hadjida_vera_ground_plan', 'hadjida_vera_ground_plan', 'hadjida_vera_ground_plan', 'hadjida_vera_ground_plan', 'hadjida_vera_ground_plan', 'hadjida_vera_ground_plan', 'hadjida_vera_ground_plan', 'hadjida_vera_ground_plan', 'hadjida_vera_ground_plan', 'hadjida_vera_ground_plan', 'hadjida_vera_ground_plan', 'hadjida_vera_ground_plan', 'hadjida_vera_ground_plan', 'hadjida_vera_ground_plan', 'hadjida_vera_ground_plan', 'hadjida_vera_ground_plan', 'hadjida_vera_ground_plan', 'hadjida_vera_ground_plan', 'hadjida_vera_ground_plan', 'hadjida_vera_ground_plan', 'hadjida_vera_ground_plan', 'hadjida_vera_ground_plan', 'hadjida_vera_ground_plan', 'hadjida_vera_ground_plan', 'hadjida_vera_ground_plan', 'hadjida_vera_ground_plan', 'hadjida_vera_ground_plan', 'hadjida_vera_ground_plan', 'hadjida_vera_ground_plan', 'hadjida_vera_ground_plan', 'hadjida_vera_ground_plan', 'hadjida_vera_ground_plan', 'hadjida_vera_ground_plan', 'hadjida_vera_ground_plan', 'hadjida_vera_ground_plan', 'hadjida_vera_ground_plan', 'hadjida_vera_ground_plan', 'hadjida_vera_ground_plan', 'hadjida_vera_ground_plan', 'hadjida_vera_ground_plan', 'hadjida_vera_ground_plan', 'hadjida_vera_ground_plan', 'hadjida_vera_ground_plan', 'hadjida_vera_ground_plan', 'hadjida_vera_ground_plan', 'hadjida_vera_ground_plan', 'hadjida_vera_ground_plan', 'hadjida_vera_ground_plan', 'hadjida_vera_ground_plan', 'hadjida_vera_ground_plan', 'hadjida_vera_ground_plan', 'hadjida_vera_ground_plan', 'hadjida_vera_ground_plan', 'hadjida_vera_ground_plan', 'hadjida_vera_ground_plan', 'hadjida_vera_ground_plan', 'hadjida_vera_ground_plan', 'hadjida_vera_ground_plan', 'hadjida_vera_ground_plan', 'hadjida_vera_ground_plan', 'hadjida_vera_ground_plan', 'hadjida_vera_ground_plan', 'hadjida_vera_ground_plan', 'hadjida_vera_ground_plan', 'hadjida_vera_ground_plan', 'hadjida_vera_ground_plan', 'hadjida_vera_ground_plan', 'hadjida_vera_ground_plan', 'hadjida_vera_ground_plan', 'hadjida_vera_ground_plan', 'hadjida_vera_ground_plan', 'hadjida_vera_ground_plan', 'hadjida_vera_ground_plan', 'hadjida_vera_ground_plan', 'hadjida_vera_ground_plan', 'hadjida_vera_ground_plan', 'hadjida_vera_ground_plan', 'hadjida_vera_ground_plan', 'hadjida_vera_ground_plan', 'hadjida_vera_ground_plan', 'hadjida_vera_ground_plan', 'hadjida_vera_ground_plan', 'hadjida_vera_ground_plan', 'hadjida_vera_ground_plan', 'hadjida_vera_ground_plan', 'hadjida_vera_ground_plan', 'hadjida_vera_ground_plan', 'hadjida_vera_ground_plan', 'hadjida_vera_ground_plan', 'hadjida_vera_ground_plan', 'hadjida_vera_ground_plan', 'hadjida_vera_ground_plan', 'hadjida_vera_ground_plan', 'hadjida_vera_ground_plan', 'hadjida_vera_ground_plan', 'hadjida_vera_ground_plan', 'hadjida_vera_ground_plan', 'hadjida_vera_ground_plan', 'hadjida_vera_ground_plan', 'hadjida_vera_ground_plan', 'hadjida_vera_ground_plan', 'hadjida_vera_ground_plan', 'hadjida_vera_ground_plan', 'hadjida_vera_ground_plan', 'hadjida_vera_ground_plan', 'hadjida_vera_ground_plan', 'hadjida_vera_ground_plan', 'hadjida_vera_ground_plan', 'hadjida_vera_ground_plan', 'hadjida_vera_ground_plan', 'hadjida_vera_ground_plan', 'hadjida_vera_ground_plan', 'hadjida_vera_ground_plan', 'hadjida_vera_ground_plan', 'hadjida_vera_ground_plan', 'hadjida_vera_ground_plan', 'hadjida_vera_ground_plan', 'hadjida_vera_ground_plan', 'hadjida_vera_ground_plan', 'hadjida_vera_ground_plan', 'hadjida_vera_ground_plan', 'hadjida_vera_ground_plan', 'hadjida_vera_ground_plan', 'hadjida_vera_ground_plan', 'hadjida_vera_ground_plan', 'hadjida_vera_ground_plan', 'hadjida_vera_ground_plan', 'hadjida_vera_ground_plan', 'hadjida_vera_ground_plan', 'hadjida_vera_ground_plan', 'hadjida_vera_ground_plan', 'hadjida_vera_ground_plan', 'hadjida_vera_ground_plan', 'hadjida_vera_ground_plan', 'hadjida_vera_ground_plan', 'hadjida_vera_ground_plan', 'hadjida_vera_ground_plan', 'hadjida_vera_ground_plan', 'hadjida_vera_ground_plan', 'hadjida_vera_ground_plan', 'hadjida_vera_ground_plan', 'hadjida_vera_ground_plan', 'hadjida_vera_ground_plan', 'hadjida_vera_ground_plan', 'hadjida_vera_ground_plan', 'hadjida_vera_ground_plan', 'hadjida_vera_ground_plan', 'hadjida_vera_ground_plan', 'hadjida_vera_ground_plan', 'hadjida_vera_ground_plan', 'hadjida_vera_ground_plan', 'hadjida_vera_ground_plan', 'hadjida_vera_ground_plan', 'hadjida_vera_ground_plan', 'hadjida_vera_ground_plan', 'hadjida_vera_ground_plan', 'hadjida_vera_ground_plan', 'hadjida_vera_ground_plan', 'hadjida_vera_ground_plan', 'hadjida_vera_ground_plan', 'hadjida_vera_ground_plan', 'hadjida_vera_ground_plan', 'hadjida_vera_ground_plan', 'hadjida_vera_ground_plan', 'hadjida_vera_ground_plan', 'hadjida_vera_ground_plan', 'hadjida_vera_ground_plan', 'hadjida_vera_ground_plan', 'hadjida_vera_ground_plan', 'hadjida_vera_ground_plan', 'hadjida_vera_ground_plan', 'hadjida_vera_ground_plan', 'hadjida_vera_ground_plan', 'hadjida_vera_ground_plan', 'hadjida_vera_ground_plan', 'hadjida_vera_ground_plan', 'hadjida_vera_ground_plan', 'hadjida_vera_ground_plan', 'hadjida_vera_ground_plan', 'hadjida_vera_ground_plan', 'hadjida_vera_ground_plan', 'hadjida_vera_ground_plan', 'hadjida_vera_ground_plan', 'hadjida_vera_ground_plan', 'hadjida_vera_untitled', 'hadjida_vera_untitled', 'hadjida_vera_untitled', 'hadjida_vera_untitled', 'hadjida_vera_untitled', 'hadjida_vera_untitled', 'hadjida_vera_untitled', 'hadjida_vera_untitled', 'hadjida_vera_untitled', 'hadjida_vera_untitled', 'hadjida_vera_untitled', 'hadjida_vera_untitled', 'hadjida_vera_untitled', 'hadjida_vera_untitled', 'hadjida_vera_untitled', 'hadjida_vera_untitled', 'hadjida_vera_untitled', 'hadjida_vera_untitled', 'hadjida_vera_untitled', 'hadjida_vera_untitled', 'hadjida_vera_untitled', 'hadjida_vera_untitled', 'hadjida_vera_untitled', 'hadjida_vera_untitled', 'hadjida_vera_untitled', 'hadjida_vera_untitled', 'hadjida_vera_untitled', 'hadjida_vera_untitled', 'hadjida_vera_untitled', 'hadjida_vera_untitled', 'hadjida_vera_untitled', 'hadjida_vera_untitled', 'hadjida_vera_untitled', 'hadjida_vera_untitled', 'hadjida_vera_untitled', 'hadjida_vera_untitled', 'hadjida_vera_untitled', 'hadjida_vera_untitled', 'hadjida_vera_untitled', 'hadjida_vera_untitled', 'hadjida_vera_untitled', 'hadjida_vera_untitled', 'hadjida_vera_untitled', 'hadjida_vera_untitled', 'hadjida_vera_untitled', 'hadjida_vera_untitled', 'hadjida_vera_untitled', 'hadjida_vera_untitled', 'hadjida_vera_untitled', 'hadjida_vera_untitled', 'hadjida_vera_untitled', 'hadjida_vera_untitled', 'hadjida_vera_untitled', 'hadjida_vera_untitled', 'hadjida_vera_untitled', 'hadjida_vera_untitled', 'hadjida_vera_untitled', 'hadjida_vera_untitled', 'hadjida_vera_untitled', 'hadjida_vera_untitled', 'hadjida_vera_untitled', 'hadjida_vera_untitled', 'hadjida_vera_untitled', 'hadjida_vera_untitled', 'hadjida_vera_untitled', 'hadjida_vera_untitled', 'hadjida_vera_untitled', 'hadjida_vera_untitled', 'hadjida_vera_untitled', 'hadjida_vera_untitled', 'hadjida_vera_untitled', 'hadjida_vera_untitled', 'hadjida_vera_untitled', 'hadjida_vera_untitled', 'hadjida_vera_untitled', 'hadjida_vera_untitled', 'hadjida_vera_untitled', 'hadjida_vera_untitled', 'hadjida_vera_untitled', 'hadjida_vera_untitled', 'hadjida_vera_untitled', 'hadjida_vera_untitled', 'hadjida_vera_untitled', 'hadjida_vera_untitled', 'hadjida_vera_untitled', 'hadjida_vera_untitled', 'hadjida_vera_untitled', 'hadjida_vera_untitled', 'hadjida_vera_untitled', 'hadjida_vera_untitled', 'hadjida_vera_untitled', 'hadjida_vera_untitled', 'hadjida_vera_untitled', 'hadjida_vera_untitled', 'hadjida_vera_untitled', 'hadjida_vera_untitled', 'hadjida_vera_untitled', 'hadjida_vera_untitled', 'hadjida_vera_untitled', 'hadjida_vera_untitled', 'hadjida_vera_untitled', 'hadjida_vera_untitled', 'hadjida_vera_untitled', 'hadjida_vera_untitled', 'hadjida_vera_untitled', 'hadjida_vera_untitled', 'hadjida_vera_untitled', 'hadjida_vera_untitled', 'hadjida_vera_untitled', 'hadjida_vera_untitled', 'hadjida_vera_untitled', 'hadjida_vera_untitled', 'hadjida_vera_untitled', 'hadjida_vera_untitled', 'hadjida_vera_untitled', 'hadjida_vera_untitled', 'hadjida_vera_untitled', 'hadjida_vera_untitled', 'hadjida_vera_untitled', 'hadjida_vera_untitled', 'hadjida_vera_untitled', 'hadjida_vera_untitled', 'hadjida_vera_untitled', 'hadjida_vera_untitled', 'hadjida_vera_untitled', 'hadjida_vera_untitled', 'hadjida_vera_untitled', 'hadjida_vera_untitled', 'hadjida_vera_untitled', 'hadjida_vera_untitled', 'hadjida_vera_untitled', 'hadjida_vera_untitled', 'hadjida_vera_untitled', 'hadjida_vera_untitled', 'hadjida_vera_untitled', 'hadjida_vera_untitled', 'hadjida_vera_untitled', 'hadjida_vera_untitled', 'hadjida_vera_untitled', 'hadjida_vera_untitled', 'hadjida_vera_untitled', 'hadjida_vera_untitled', 'hadjida_vera_untitled', 'hadjida_vera_untitled', 'hadjida_vera_untitled', 'hadjida_vera_untitled', 'hadjida_vera_untitled', 'hadjida_vera_untitled', 'hadjida_vera_untitled', 'hadjida_vera_untitled', 'hadjida_vera_untitled', 'hadjida_vera_untitled', 'hadjida_vera_untitled', 'hadjida_vera_untitled', 'hadjida_vera_untitled', 'hadjida_vera_untitled', 'hadjida_vera_untitled', 'hadjida_vera_untitled', 'hadjida_vera_untitled', 'hadjida_vera_untitled', 'hadjida_vera_untitled', 'hadjida_vera_untitled', 'hadjida_vera_untitled', 'hadjida_vera_untitled', 'hadjida_vera_untitled', 'hadjida_vera_untitled', 'hadjida_vera_untitled', 'hadjida_vera_untitled', 'hadjida_vera_untitled', 'hadjida_vera_untitled', 'hadjida_vera_untitled', 'hadjida_vera_untitled', 'hadjida_vera_untitled', 'hadjida_vera_untitled', 'hadjida_vera_untitled', 'hadjida_vera_untitled', 'hadjida_vera_untitled', 'hadjida_vera_untitled', 'hadjida_vera_untitled', 'hadjida_vera_untitled', 'hadjida_vera_untitled', 'hadjida_vera_untitled', 'hadjida_vera_untitled', 'hadjida_vera_untitled', 'hadjida_vera_untitled', 'hadjida_vera_untitled', 'hadjida_vera_untitled', 'hadjida_vera_untitled', 'hadjida_vera_untitled', 'hadjida_vera_untitled', 'hadjida_vera_untitled', 'hadjida_vera_untitled', 'hadjida_vera_untitled', 'hadjida_vera_untitled', 'hadjida_vera_untitled', 'hadjida_vera_untitled', 'hadjida_vera_untitled', 'hadjida_vera_untitled', 'hadjida_vera_untitled', 'hadjida_vera_untitled', 'hadjida_vera_untitled', 'hadjida_vera_untitled', 'hadjida_vera_untitled', 'hadjida_vera_untitled', 'hadjida_vera_untitled', 'hadjida_vera_untitled', 'hadjida_vera_untitled', 'hadjida_vera_untitled', 'hadjida_vera_untitled', 'hadjida_vera_untitled', 'hadjida_vera_untitled', 'hadjida_vera_untitled', 'hadjida_vera_untitled', 'hadjida_vera_untitled', 'hadjida_vera_untitled', 'hadjida_vera_untitled', 'hadjida_vera_untitled', 'hadjida_vera_untitled', 'hadjida_vera_untitled', 'hadjida_vera_untitled', 'hadjida_vera_untitled', 'hadjida_vera_untitled', 'hadjida_vera_untitled', 'hadjida_vera_untitled', 'hadjida_vera_untitled', 'hadjida_vera_untitled', 'hadjida_vera_untitled', 'hadjida_vera_untitled', 'hadjida_vera_untitled', 'hadjida_vera_untitled', 'hadjida_vera_untitled', 'hadjida_vera_untitled', 'hadjida_vera_untitled', 'hadjida_vera_untitled', 'hadjida_vera_untitled', 'hadjida_vera_untitled', 'hadjida_vera_untitled', 'hadjida_vera_untitled', 'hadjida_vera_untitled', 'hadjida_vera_untitled', 'hadjida_vera_untitled', 'hadjida_vera_untitled', 'hadjida_vera_untitled', 'hadjida_vera_untitled', 'hadjida_vera_untitled', 'hadjida_vera_untitled', 'hadjida_vera_untitled', 'hadjida_vera_untitled', 'hadjida_vera_untitled', 'hadjida_vera_untitled', 'hadjida_vera_untitled', 'hadjida_vera_untitled', 'hadjida_vera_untitled', 'hadjida_vera_untitled', 'hadjida_vera_untitled', 'hadjida_vera_untitled', 'hadjida_vera_untitled', 'hadjida_vera_untitled', 'hadjida_vera_untitled', 'hadjida_vera_untitled', 'hadjida_vera_untitled', 'hadjida_vera_untitled', 'hadjida_vera_untitled', 'hadjida_vera_untitled', 'hadjida_vera_untitled', 'hadjida_vera_untitled', 'hadjida_vera_untitled', 'hadjida_vera_untitled', 'hadjida_vera_untitled', 'hadjida_vera_untitled', 'hadjida_vera_untitled', 'hadjida_vera_untitled', 'hadjida_vera_untitled', 'hadjida_vera_untitled', 'hadjida_vera_untitled', 'hadjida_vera_untitled', 'hadjida_vera_untitled', 'hadjida_vera_untitled', 'hadjida_vera_untitled', 'votsis_stelios_untitled', 'votsis_stelios_untitled', 'votsis_stelios_untitled', 'votsis_stelios_untitled', 'votsis_stelios_untitled', 'votsis_stelios_untitled', 'votsis_stelios_untitled', 'votsis_stelios_untitled', 'votsis_stelios_untitled', 'votsis_stelios_untitled', 'votsis_stelios_untitled', 'votsis_stelios_untitled', 'votsis_stelios_untitled', 'votsis_stelios_untitled', 'votsis_stelios_untitled', 'votsis_stelios_untitled', 'votsis_stelios_untitled', 'votsis_stelios_untitled', 'votsis_stelios_untitled', 'votsis_stelios_untitled', 'votsis_stelios_untitled', 'votsis_stelios_untitled', 'votsis_stelios_untitled', 'votsis_stelios_untitled', 'votsis_stelios_untitled', 'votsis_stelios_untitled', 'votsis_stelios_untitled', 'votsis_stelios_untitled', 'votsis_stelios_untitled', 'votsis_stelios_untitled', 'votsis_stelios_untitled', 'votsis_stelios_untitled', 'votsis_stelios_untitled', 'votsis_stelios_untitled', 'votsis_stelios_untitled', 'votsis_stelios_untitled', 'votsis_stelios_untitled', 'votsis_stelios_untitled', 'votsis_stelios_untitled', 'votsis_stelios_untitled', 'votsis_stelios_untitled', 'votsis_stelios_untitled', 'votsis_stelios_untitled', 'votsis_stelios_untitled', 'votsis_stelios_untitled', 'votsis_stelios_untitled', 'votsis_stelios_untitled', 'votsis_stelios_untitled', 'votsis_stelios_untitled', 'votsis_stelios_untitled', 'votsis_stelios_untitled', 'votsis_stelios_untitled', 'votsis_stelios_untitled', 'votsis_stelios_untitled', 'votsis_stelios_untitled', 'votsis_stelios_untitled', 'votsis_stelios_untitled', 'votsis_stelios_untitled', 'votsis_stelios_untitled', 'votsis_stelios_untitled', 'votsis_stelios_untitled', 'votsis_stelios_untitled', 'votsis_stelios_untitled', 'votsis_stelios_untitled', 'votsis_stelios_untitled', 'votsis_stelios_untitled', 'votsis_stelios_untitled', 'votsis_stelios_untitled', 'votsis_stelios_untitled', 'votsis_stelios_untitled', 'votsis_stelios_untitled', 'votsis_stelios_untitled', 'votsis_stelios_untitled', 'votsis_stelios_untitled', 'votsis_stelios_untitled', 'votsis_stelios_untitled', 'votsis_stelios_untitled', 'votsis_stelios_untitled', 'votsis_stelios_untitled', 'votsis_stelios_untitled', 'votsis_stelios_untitled', 'votsis_stelios_untitled', 'votsis_stelios_untitled', 'votsis_stelios_untitled', 'votsis_stelios_untitled', 'votsis_stelios_untitled', 'votsis_stelios_untitled', 'votsis_stelios_untitled', 'votsis_stelios_untitled', 'votsis_stelios_untitled', 'votsis_stelios_untitled', 'votsis_stelios_untitled', 'votsis_stelios_untitled', 'votsis_stelios_untitled', 'votsis_stelios_untitled', 'votsis_stelios_untitled', 'votsis_stelios_untitled', 'votsis_stelios_untitled', 'votsis_stelios_untitled', 'votsis_stelios_untitled', 'votsis_stelios_untitled', 'votsis_stelios_untitled', 'votsis_stelios_untitled', 'votsis_stelios_untitled', 'votsis_stelios_untitled', 'votsis_stelios_untitled', 'votsis_stelios_untitled', 'votsis_stelios_untitled', 'votsis_stelios_untitled', 'votsis_stelios_untitled', 'votsis_stelios_untitled', 'votsis_stelios_untitled', 'votsis_stelios_untitled', 'votsis_stelios_untitled', 'votsis_stelios_untitled', 'votsis_stelios_untitled', 'votsis_stelios_untitled', 'votsis_stelios_untitled', 'votsis_stelios_untitled', 'votsis_stelios_untitled', 'votsis_stelios_untitled', 'votsis_stelios_untitled', 'votsis_stelios_untitled', 'votsis_stelios_untitled', 'votsis_stelios_untitled', 'votsis_stelios_untitled', 'votsis_stelios_untitled', 'votsis_stelios_untitled', 'votsis_stelios_untitled', 'votsis_stelios_untitled', 'votsis_stelios_untitled', 'votsis_stelios_untitled', 'votsis_stelios_untitled', 'votsis_stelios_untitled', 'votsis_stelios_untitled', 'votsis_stelios_untitled', 'votsis_stelios_untitled', 'votsis_stelios_untitled', 'votsis_stelios_untitled', 'votsis_stelios_untitled', 'votsis_stelios_untitled', 'votsis_stelios_untitled', 'votsis_stelios_untitled', 'votsis_stelios_untitled', 'votsis_stelios_untitled', 'votsis_stelios_untitled', 'votsis_stelios_untitled', 'votsis_stelios_untitled', 'votsis_stelios_untitled', 'votsis_stelios_untitled', 'votsis_stelios_untitled', 'votsis_stelios_untitled', 'votsis_stelios_untitled', 'votsis_stelios_untitled', 'votsis_stelios_untitled', 'votsis_stelios_untitled', 'votsis_stelios_untitled', 'votsis_stelios_untitled', 'votsis_stelios_untitled', 'votsis_stelios_untitled', 'votsis_stelios_untitled', 'votsis_stelios_untitled', 'votsis_stelios_untitled', 'votsis_stelios_untitled', 'votsis_stelios_untitled', 'votsis_stelios_untitled', 'votsis_stelios_untitled', 'votsis_stelios_untitled', 'votsis_stelios_untitled', 'votsis_stelios_untitled', 'votsis_stelios_untitled', 'votsis_stelios_untitled', 'votsis_stelios_untitled', 'votsis_stelios_untitled', 'votsis_stelios_untitled', 'votsis_stelios_untitled', 'votsis_stelios_untitled', 'votsis_stelios_untitled', 'votsis_stelios_untitled', 'votsis_stelios_untitled', 'votsis_stelios_untitled', 'votsis_stelios_untitled', 'votsis_stelios_untitled', 'votsis_stelios_untitled', 'votsis_stelios_untitled', 'votsis_stelios_untitled', 'votsis_stelios_untitled', 'votsis_stelios_untitled', 'votsis_stelios_untitled', 'votsis_stelios_untitled', 'votsis_stelios_untitled', 'votsis_stelios_untitled', 'votsis_stelios_untitled', 'votsis_stelios_untitled', 'votsis_stelios_untitled', 'votsis_stelios_untitled', 'votsis_stelios_untitled', 'votsis_stelios_untitled', 'votsis_stelios_untitled', 'votsis_stelios_untitled', 'votsis_stelios_untitled', 'votsis_stelios_untitled', 'votsis_stelios_untitled', 'votsis_stelios_untitled', 'votsis_stelios_untitled', 'votsis_stelios_untitled', 'votsis_stelios_untitled', 'votsis_stelios_untitled', 'votsis_stelios_untitled', 'votsis_stelios_untitled', 'votsis_stelios_untitled', 'votsis_stelios_untitled', 'votsis_stelios_untitled', 'votsis_stelios_untitled', 'votsis_stelios_untitled', 'votsis_stelios_untitled', 'votsis_stelios_untitled', 'votsis_stelios_untitled', 'votsis_stelios_untitled', 'votsis_stelios_untitled', 'votsis_stelios_untitled', 'votsis_stelios_untitled', 'votsis_stelios_untitled', 'votsis_stelios_untitled', 'votsis_stelios_untitled', 'votsis_stelios_untitled', 'votsis_stelios_untitled', 'votsis_stelios_untitled', 'votsis_stelios_untitled', 'votsis_stelios_untitled', 'votsis_stelios_untitled', 'votsis_stelios_untitled', 'votsis_stelios_untitled', 'votsis_stelios_untitled', 'votsis_stelios_untitled', 'votsis_stelios_untitled', 'votsis_stelios_untitled', 'votsis_stelios_untitled', 'votsis_stelios_untitled', 'votsis_stelios_untitled', 'votsis_stelios_untitled', 'votsis_stelios_untitled', 'votsis_stelios_untitled', 'votsis_stelios_untitled', 'votsis_stelios_untitled', 'votsis_stelios_untitled', 'votsis_stelios_untitled', 'votsis_stelios_untitled', 'votsis_stelios_untitled', 'votsis_stelios_untitled', 'votsis_stelios_untitled', 'votsis_stelios_untitled', 'votsis_stelios_untitled', 'votsis_stelios_untitled', 'votsis_stelios_untitled', 'votsis_stelios_untitled', 'votsis_stelios_untitled', 'votsis_stelios_untitled', 'votsis_stelios_untitled', 'votsis_stelios_untitled', 'votsis_stelios_untitled', 'votsis_stelios_untitled', 'votsis_stelios_untitled', 'votsis_stelios_untitled', 'votsis_stelios_untitled', 'votsis_stelios_untitled', 'votsis_stelios_untitled', 'votsis_stelios_untitled', 'votsis_stelios_untitled', 'votsis_stelios_untitled', 'votsis_stelios_untitled', 'votsis_stelios_untitled', 'votsis_stelios_untitled', 'votsis_stelios_untitled', 'votsis_stelios_untitled', 'votsis_stelios_untitled', 'votsis_stelios_untitled', 'votsis_stelios_untitled', 'votsis_stelios_untitled', 'votsis_stelios_untitled', 'votsis_stelios_untitled', 'votsis_stelios_untitled', 'votsis_stelios_untitled', 'votsis_stelios_untitled', 'votsis_stelios_untitled', 'votsis_stelios_untitled', 'votsis_stelios_untitled', 'votsis_stelios_untitled', 'votsis_stelios_untitled', 'votsis_stelios_untitled', 'votsis_stelios_untitled', 'votsis_stelios_untitled', 'votsis_stelios_untitled', 'votsis_stelios_untitled', 'votsis_stelios_untitled', 'votsis_stelios_the_cyclist', 'votsis_stelios_the_cyclist', 'votsis_stelios_the_cyclist', 'votsis_stelios_the_cyclist', 'votsis_stelios_the_cyclist', 'votsis_stelios_the_cyclist', 'votsis_stelios_the_cyclist', 'votsis_stelios_the_cyclist', 'votsis_stelios_the_cyclist', 'votsis_stelios_the_cyclist', 'votsis_stelios_the_cyclist', 'votsis_stelios_the_cyclist', 'votsis_stelios_the_cyclist', 'votsis_stelios_the_cyclist', 'votsis_stelios_the_cyclist', 'votsis_stelios_the_cyclist', 'votsis_stelios_the_cyclist', 'votsis_stelios_the_cyclist', 'votsis_stelios_the_cyclist', 'votsis_stelios_the_cyclist', 'votsis_stelios_the_cyclist', 'votsis_stelios_the_cyclist', 'votsis_stelios_the_cyclist', 'votsis_stelios_the_cyclist', 'votsis_stelios_the_cyclist', 'votsis_stelios_the_cyclist', 'votsis_stelios_the_cyclist', 'votsis_stelios_the_cyclist', 'votsis_stelios_the_cyclist', 'votsis_stelios_the_cyclist', 'votsis_stelios_the_cyclist', 'votsis_stelios_the_cyclist', 'votsis_stelios_the_cyclist', 'votsis_stelios_the_cyclist', 'votsis_stelios_the_cyclist', 'votsis_stelios_the_cyclist', 'votsis_stelios_the_cyclist', 'votsis_stelios_the_cyclist', 'votsis_stelios_the_cyclist', 'votsis_stelios_the_cyclist', 'votsis_stelios_the_cyclist', 'votsis_stelios_the_cyclist', 'votsis_stelios_the_cyclist', 'votsis_stelios_the_cyclist', 'votsis_stelios_the_cyclist', 'votsis_stelios_the_cyclist', 'votsis_stelios_the_cyclist', 'votsis_stelios_the_cyclist', 'votsis_stelios_the_cyclist', 'votsis_stelios_the_cyclist', 'votsis_stelios_the_cyclist', 'votsis_stelios_the_cyclist', 'votsis_stelios_the_cyclist', 'votsis_stelios_the_cyclist', 'votsis_stelios_the_cyclist', 'votsis_stelios_the_cyclist', 'votsis_stelios_the_cyclist', 'votsis_stelios_the_cyclist', 'votsis_stelios_the_cyclist', 'votsis_stelios_the_cyclist', 'votsis_stelios_the_cyclist', 'votsis_stelios_the_cyclist', 'votsis_stelios_the_cyclist', 'votsis_stelios_the_cyclist', 'votsis_stelios_the_cyclist', 'votsis_stelios_the_cyclist', 'votsis_stelios_the_cyclist', 'votsis_stelios_the_cyclist', 'votsis_stelios_the_cyclist', 'votsis_stelios_the_cyclist', 'votsis_stelios_the_cyclist', 'votsis_stelios_the_cyclist', 'votsis_stelios_the_cyclist', 'votsis_stelios_the_cyclist', 'votsis_stelios_the_cyclist', 'votsis_stelios_the_cyclist', 'votsis_stelios_the_cyclist', 'votsis_stelios_the_cyclist', 'votsis_stelios_the_cyclist', 'votsis_stelios_the_cyclist', 'votsis_stelios_the_cyclist', 'votsis_stelios_the_cyclist', 'votsis_stelios_the_cyclist', 'votsis_stelios_the_cyclist', 'votsis_stelios_the_cyclist', 'votsis_stelios_the_cyclist', 'votsis_stelios_the_cyclist', 'votsis_stelios_the_cyclist', 'votsis_stelios_the_cyclist', 'votsis_stelios_the_cyclist', 'votsis_stelios_the_cyclist', 'votsis_stelios_the_cyclist', 'votsis_stelios_the_cyclist', 'votsis_stelios_the_cyclist', 'votsis_stelios_the_cyclist', 'votsis_stelios_the_cyclist', 'votsis_stelios_the_cyclist', 'votsis_stelios_the_cyclist', 'votsis_stelios_the_cyclist', 'votsis_stelios_the_cyclist', 'votsis_stelios_the_cyclist', 'votsis_stelios_the_cyclist', 'votsis_stelios_the_cyclist', 'votsis_stelios_the_cyclist', 'votsis_stelios_the_cyclist', 'votsis_stelios_the_cyclist', 'votsis_stelios_the_cyclist', 'votsis_stelios_the_cyclist', 'votsis_stelios_the_cyclist', 'votsis_stelios_the_cyclist', 'votsis_stelios_the_cyclist', 'votsis_stelios_the_cyclist', 'votsis_stelios_the_cyclist', 'votsis_stelios_the_cyclist', 'votsis_stelios_the_cyclist', 'votsis_stelios_the_cyclist', 'votsis_stelios_the_cyclist', 'votsis_stelios_the_cyclist', 'votsis_stelios_the_cyclist', 'votsis_stelios_the_cyclist', 'votsis_stelios_the_cyclist', 'votsis_stelios_the_cyclist', 'votsis_stelios_the_cyclist', 'votsis_stelios_the_cyclist', 'votsis_stelios_the_cyclist', 'votsis_stelios_the_cyclist', 'votsis_stelios_the_cyclist', 'votsis_stelios_the_cyclist', 'votsis_stelios_the_cyclist', 'votsis_stelios_the_cyclist', 'votsis_stelios_the_cyclist', 'votsis_stelios_the_cyclist', 'votsis_stelios_the_cyclist', 'votsis_stelios_the_cyclist', 'votsis_stelios_the_cyclist', 'votsis_stelios_the_cyclist', 'votsis_stelios_the_cyclist', 'votsis_stelios_the_cyclist', 'votsis_stelios_the_cyclist', 'votsis_stelios_the_cyclist', 'votsis_stelios_the_cyclist', 'votsis_stelios_the_cyclist', 'votsis_stelios_the_cyclist', 'votsis_stelios_the_cyclist', 'votsis_stelios_the_cyclist', 'votsis_stelios_the_cyclist', 'votsis_stelios_the_cyclist', 'votsis_stelios_the_cyclist', 'votsis_stelios_the_cyclist', 'votsis_stelios_the_cyclist', 'votsis_stelios_the_cyclist', 'votsis_stelios_the_cyclist', 'votsis_stelios_the_cyclist', 'votsis_stelios_the_cyclist', 'votsis_stelios_the_cyclist', 'votsis_stelios_the_cyclist', 'votsis_stelios_the_cyclist', 'votsis_stelios_the_cyclist', 'votsis_stelios_the_cyclist', 'votsis_stelios_the_cyclist', 'votsis_stelios_the_cyclist', 'votsis_stelios_the_cyclist', 'votsis_stelios_the_cyclist', 'votsis_stelios_the_cyclist', 'votsis_stelios_the_cyclist', 'votsis_stelios_the_cyclist', 'votsis_stelios_the_cyclist', 'votsis_stelios_the_cyclist', 'votsis_stelios_the_cyclist', 'votsis_stelios_the_cyclist', 'votsis_stelios_the_cyclist', 'votsis_stelios_the_cyclist', 'votsis_stelios_the_cyclist', 'votsis_stelios_the_cyclist', 'votsis_stelios_the_cyclist', 'votsis_stelios_the_cyclist', 'votsis_stelios_the_cyclist', 'votsis_stelios_the_cyclist', 'votsis_stelios_the_cyclist', 'votsis_stelios_the_cyclist', 'votsis_stelios_the_cyclist', 'votsis_stelios_the_cyclist', 'votsis_stelios_the_cyclist', 'votsis_stelios_the_cyclist', 'votsis_stelios_the_cyclist', 'votsis_stelios_the_cyclist', 'votsis_stelios_the_cyclist', 'votsis_stelios_the_cyclist', 'votsis_stelios_the_cyclist', 'votsis_stelios_the_cyclist', 'votsis_stelios_the_cyclist', 'votsis_stelios_the_cyclist', 'votsis_stelios_the_cyclist', 'votsis_stelios_the_cyclist', 'votsis_stelios_the_cyclist', 'votsis_stelios_the_cyclist', 'votsis_stelios_the_cyclist', 'votsis_stelios_the_cyclist', 'votsis_stelios_the_cyclist', 'votsis_stelios_the_cyclist', 'votsis_stelios_the_cyclist', 'votsis_stelios_the_cyclist', 'votsis_stelios_the_cyclist', 'votsis_stelios_the_cyclist', 'votsis_stelios_the_cyclist', 'votsis_stelios_the_cyclist', 'votsis_stelios_the_cyclist', 'votsis_stelios_the_cyclist', 'votsis_stelios_the_cyclist', 'votsis_stelios_the_cyclist', 'votsis_stelios_the_cyclist', 'votsis_stelios_the_cyclist', 'votsis_stelios_the_cyclist', 'votsis_stelios_the_cyclist', 'votsis_stelios_the_cyclist', 'votsis_stelios_the_cyclist', 'votsis_stelios_the_cyclist', 'votsis_stelios_the_cyclist', 'votsis_stelios_the_cyclist', 'votsis_stelios_the_cyclist', 'votsis_stelios_the_cyclist', 'votsis_stelios_the_cyclist', 'votsis_stelios_the_cyclist', 'votsis_stelios_the_cyclist', 'votsis_stelios_the_cyclist', 'votsis_stelios_the_cyclist', 'votsis_stelios_the_cyclist', 'votsis_stelios_the_cyclist', 'votsis_stelios_the_cyclist', 'votsis_stelios_the_cyclist', 'votsis_stelios_the_cyclist', 'votsis_stelios_the_cyclist', 'votsis_stelios_the_cyclist', 'votsis_stelios_the_cyclist', 'votsis_stelios_the_cyclist', 'votsis_stelios_the_cyclist', 'votsis_stelios_the_cyclist', 'votsis_stelios_the_cyclist', 'votsis_stelios_the_cyclist', 'votsis_stelios_the_cyclist', 'votsis_stelios_the_cyclist', 'votsis_stelios_the_cyclist', 'votsis_stelios_the_cyclist', 'votsis_stelios_the_cyclist', 'votsis_stelios_the_cyclist', 'votsis_stelios_the_cyclist', 'votsis_stelios_the_cyclist', 'votsis_stelios_the_cyclist', 'votsis_stelios_the_cyclist', 'votsis_stelios_the_cyclist', 'votsis_stelios_the_cyclist', 'votsis_stelios_the_cyclist', 'votsis_stelios_the_cyclist', 'votsis_stelios_the_cyclist', 'votsis_stelios_the_cyclist', 'votsis_stelios_the_cyclist', 'votsis_stelios_the_cyclist', 'votsis_stelios_the_cyclist', 'votsis_stelios_the_cyclist', 'votsis_stelios_the_cyclist', 'votsis_stelios_the_cyclist', 'votsis_stelios_the_cyclist', 'votsis_stelios_the_cyclist', 'votsis_stelios_the_cyclist', 'votsis_stelios_the_cyclist', 'votsis_stelios_the_cyclist', 'votsis_stelios_the_cyclist', 'votsis_stelios_the_cyclist', 'votsis_stelios_the_cyclist', 'votsis_stelios_presence', 'votsis_stelios_presence', 'votsis_stelios_presence', 'votsis_stelios_presence', 'votsis_stelios_presence', 'votsis_stelios_presence', 'votsis_stelios_presence', 'votsis_stelios_presence', 'votsis_stelios_presence', 'votsis_stelios_presence', 'votsis_stelios_presence', 'votsis_stelios_presence', 'votsis_stelios_presence', 'votsis_stelios_presence', 'votsis_stelios_presence', 'votsis_stelios_presence', 'votsis_stelios_presence', 'votsis_stelios_presence', 'votsis_stelios_presence', 'votsis_stelios_presence', 'votsis_stelios_presence', 'votsis_stelios_presence', 'votsis_stelios_presence', 'votsis_stelios_presence', 'votsis_stelios_presence', 'votsis_stelios_presence', 'votsis_stelios_presence', 'votsis_stelios_presence', 'votsis_stelios_presence', 'votsis_stelios_presence', 'votsis_stelios_presence', 'votsis_stelios_presence', 'votsis_stelios_presence', 'votsis_stelios_presence', 'votsis_stelios_presence', 'votsis_stelios_presence', 'votsis_stelios_presence', 'votsis_stelios_presence', 'votsis_stelios_presence', 'votsis_stelios_presence', 'votsis_stelios_presence', 'votsis_stelios_presence', 'votsis_stelios_presence', 'votsis_stelios_presence', 'votsis_stelios_presence', 'votsis_stelios_presence', 'votsis_stelios_presence', 'votsis_stelios_presence', 'votsis_stelios_presence', 'votsis_stelios_presence', 'votsis_stelios_presence', 'votsis_stelios_presence', 'votsis_stelios_presence', 'votsis_stelios_presence', 'votsis_stelios_presence', 'votsis_stelios_presence', 'votsis_stelios_presence', 'votsis_stelios_presence', 'votsis_stelios_presence', 'votsis_stelios_presence', 'votsis_stelios_presence', 'votsis_stelios_presence', 'votsis_stelios_presence', 'votsis_stelios_presence', 'votsis_stelios_presence', 'votsis_stelios_presence', 'votsis_stelios_presence', 'votsis_stelios_presence', 'votsis_stelios_presence', 'votsis_stelios_presence', 'votsis_stelios_presence', 'votsis_stelios_presence', 'votsis_stelios_presence', 'votsis_stelios_presence', 'votsis_stelios_presence', 'votsis_stelios_presence', 'votsis_stelios_presence', 'votsis_stelios_presence', 'votsis_stelios_presence', 'votsis_stelios_presence', 'votsis_stelios_presence', 'votsis_stelios_presence', 'votsis_stelios_presence', 'votsis_stelios_presence', 'votsis_stelios_presence', 'votsis_stelios_presence', 'votsis_stelios_presence', 'votsis_stelios_presence', 'votsis_stelios_presence', 'votsis_stelios_presence', 'votsis_stelios_presence', 'votsis_stelios_presence', 'votsis_stelios_presence', 'votsis_stelios_presence', 'votsis_stelios_presence', 'votsis_stelios_presence', 'votsis_stelios_presence', 'votsis_stelios_presence', 'votsis_stelios_presence', 'votsis_stelios_presence', 'votsis_stelios_presence', 'votsis_stelios_presence', 'votsis_stelios_presence', 'votsis_stelios_presence', 'votsis_stelios_presence', 'votsis_stelios_presence', 'votsis_stelios_presence', 'votsis_stelios_presence', 'votsis_stelios_presence', 'votsis_stelios_presence', 'votsis_stelios_presence', 'votsis_stelios_presence', 'votsis_stelios_presence', 'votsis_stelios_presence', 'votsis_stelios_presence', 'votsis_stelios_presence', 'votsis_stelios_presence', 'votsis_stelios_presence', 'votsis_stelios_presence', 'votsis_stelios_presence', 'votsis_stelios_presence', 'votsis_stelios_presence', 'votsis_stelios_presence', 'votsis_stelios_presence', 'votsis_stelios_presence', 'votsis_stelios_presence', 'votsis_stelios_presence', 'votsis_stelios_presence', 'votsis_stelios_presence', 'votsis_stelios_presence', 'votsis_stelios_presence', 'votsis_stelios_presence', 'votsis_stelios_presence', 'votsis_stelios_presence', 'votsis_stelios_presence', 'votsis_stelios_presence', 'votsis_stelios_presence', 'votsis_stelios_presence', 'votsis_stelios_presence', 'votsis_stelios_presence', 'votsis_stelios_presence', 'votsis_stelios_presence', 'votsis_stelios_presence', 'votsis_stelios_presence', 'votsis_stelios_presence', 'votsis_stelios_presence', 'votsis_stelios_presence', 'votsis_stelios_presence', 'votsis_stelios_presence', 'votsis_stelios_presence', 'votsis_stelios_presence', 'votsis_stelios_presence', 'votsis_stelios_presence', 'votsis_stelios_presence', 'votsis_stelios_presence', 'votsis_stelios_presence', 'votsis_stelios_presence', 'votsis_stelios_presence', 'votsis_stelios_presence', 'votsis_stelios_presence', 'votsis_stelios_presence', 'votsis_stelios_presence', 'votsis_stelios_presence', 'votsis_stelios_presence', 'votsis_stelios_presence', 'votsis_stelios_presence', 'votsis_stelios_presence', 'votsis_stelios_presence', 'votsis_stelios_presence', 'votsis_stelios_presence', 'votsis_stelios_presence', 'votsis_stelios_presence', 'votsis_stelios_presence', 'votsis_stelios_presence', 'votsis_stelios_presence', 'votsis_stelios_presence', 'votsis_stelios_presence', 'votsis_stelios_presence', 'votsis_stelios_presence', 'votsis_stelios_presence', 'votsis_stelios_presence', 'votsis_stelios_presence', 'votsis_stelios_presence', 'votsis_stelios_presence', 'votsis_stelios_presence', 'votsis_stelios_presence', 'votsis_stelios_presence', 'votsis_stelios_presence', 'votsis_stelios_presence', 'votsis_stelios_presence', 'votsis_stelios_presence', 'votsis_stelios_presence', 'votsis_stelios_presence', 'votsis_stelios_presence', 'votsis_stelios_presence', 'votsis_stelios_presence', 'votsis_stelios_presence', 'votsis_stelios_presence', 'votsis_stelios_presence', 'votsis_stelios_presence', 'votsis_stelios_presence', 'votsis_stelios_presence', 'votsis_stelios_presence', 'votsis_stelios_presence', 'votsis_stelios_presence', 'votsis_stelios_presence', 'votsis_stelios_presence', 'votsis_stelios_presence', 'votsis_stelios_presence', 'votsis_stelios_presence', 'votsis_stelios_presence', 'votsis_stelios_presence', 'votsis_stelios_presence', 'votsis_stelios_presence', 'votsis_stelios_presence', 'votsis_stelios_presence', 'votsis_stelios_presence', 'votsis_stelios_presence', 'votsis_stelios_presence', 'votsis_stelios_presence', 'votsis_stelios_presence', 'votsis_stelios_presence', 'votsis_stelios_presence', 'votsis_stelios_presence', 'votsis_stelios_presence', 'votsis_stelios_presence', 'votsis_stelios_presence', 'votsis_stelios_presence', 'votsis_stelios_presence', 'votsis_stelios_presence', 'votsis_stelios_presence', 'votsis_stelios_presence', 'votsis_stelios_presence', 'votsis_stelios_presence', 'votsis_stelios_presence', 'votsis_stelios_presence', 'votsis_stelios_presence', 'votsis_stelios_presence', 'votsis_stelios_presence', 'votsis_stelios_presence', 'votsis_stelios_presence', 'votsis_stelios_presence', 'votsis_stelios_presence', 'votsis_stelios_presence', 'votsis_stelios_presence', 'votsis_stelios_presence', 'votsis_stelios_presence', 'votsis_stelios_presence', 'votsis_stelios_presence', 'votsis_stelios_presence', 'votsis_stelios_presence', 'votsis_stelios_presence', 'votsis_stelios_presence', 'votsis_stelios_presence', 'votsis_stelios_presence', 'votsis_stelios_presence', 'votsis_stelios_presence', 'votsis_stelios_presence', 'votsis_stelios_presence', 'votsis_stelios_presence', 'votsis_stelios_presence', 'votsis_stelios_presence', 'votsis_stelios_presence', 'votsis_stelios_presence', 'votsis_stelios_presence', 'votsis_stelios_presence', 'votsis_stelios_presence', 'votsis_stelios_presence', 'votsis_stelios_presence', 'votsis_stelios_presence', 'votsis_stelios_presence', 'votsis_stelios_presence', 'votsis_stelios_presence', 'votsis_stelios_presence', 'votsis_stelios_presence', 'kouroussis_nicos_untitled', 'kouroussis_nicos_untitled', 'kouroussis_nicos_untitled', 'kouroussis_nicos_untitled', 'kouroussis_nicos_untitled', 'kouroussis_nicos_untitled', 'kouroussis_nicos_untitled', 'kouroussis_nicos_untitled', 'kouroussis_nicos_untitled', 'kouroussis_nicos_untitled', 'kouroussis_nicos_untitled', 'kouroussis_nicos_untitled', 'kouroussis_nicos_untitled', 'kouroussis_nicos_untitled', 'kouroussis_nicos_untitled', 'kouroussis_nicos_untitled', 'kouroussis_nicos_untitled', 'kouroussis_nicos_untitled', 'kouroussis_nicos_untitled', 'kouroussis_nicos_untitled', 'kouroussis_nicos_untitled', 'kouroussis_nicos_untitled', 'kouroussis_nicos_untitled', 'kouroussis_nicos_untitled', 'kouroussis_nicos_untitled', 'kouroussis_nicos_untitled', 'kouroussis_nicos_untitled', 'kouroussis_nicos_untitled', 'kouroussis_nicos_untitled', 'kouroussis_nicos_untitled', 'kouroussis_nicos_untitled', 'kouroussis_nicos_untitled', 'kouroussis_nicos_untitled', 'kouroussis_nicos_untitled', 'kouroussis_nicos_untitled', 'kouroussis_nicos_untitled', 'kouroussis_nicos_untitled', 'kouroussis_nicos_untitled', 'kouroussis_nicos_untitled', 'kouroussis_nicos_untitled', 'kouroussis_nicos_untitled', 'kouroussis_nicos_untitled', 'kouroussis_nicos_untitled', 'kouroussis_nicos_untitled', 'kouroussis_nicos_untitled', 'kouroussis_nicos_untitled', 'kouroussis_nicos_untitled', 'kouroussis_nicos_untitled', 'kouroussis_nicos_untitled', 'kouroussis_nicos_untitled', 'kouroussis_nicos_untitled', 'kouroussis_nicos_untitled', 'kouroussis_nicos_untitled', 'kouroussis_nicos_untitled', 'kouroussis_nicos_untitled', 'kouroussis_nicos_untitled', 'kouroussis_nicos_untitled', 'kouroussis_nicos_untitled', 'kouroussis_nicos_untitled', 'kouroussis_nicos_untitled', 'kouroussis_nicos_untitled', 'kouroussis_nicos_untitled', 'kouroussis_nicos_untitled', 'kouroussis_nicos_untitled', 'kouroussis_nicos_untitled', 'kouroussis_nicos_untitled', 'kouroussis_nicos_untitled', 'kouroussis_nicos_untitled', 'kouroussis_nicos_untitled', 'kouroussis_nicos_untitled', 'kouroussis_nicos_untitled', 'kouroussis_nicos_untitled', 'kouroussis_nicos_untitled', 'kouroussis_nicos_untitled', 'kouroussis_nicos_untitled', 'kouroussis_nicos_untitled', 'kouroussis_nicos_untitled', 'kouroussis_nicos_untitled', 'kouroussis_nicos_untitled', 'kouroussis_nicos_untitled', 'kouroussis_nicos_untitled', 'kouroussis_nicos_untitled', 'kouroussis_nicos_untitled', 'kouroussis_nicos_untitled', 'kouroussis_nicos_untitled', 'kouroussis_nicos_untitled', 'kouroussis_nicos_untitled', 'kouroussis_nicos_untitled', 'kouroussis_nicos_untitled', 'kouroussis_nicos_untitled', 'kouroussis_nicos_untitled', 'kouroussis_nicos_untitled', 'kouroussis_nicos_untitled', 'kouroussis_nicos_untitled', 'kouroussis_nicos_untitled', 'kouroussis_nicos_untitled', 'kouroussis_nicos_untitled', 'kouroussis_nicos_untitled', 'kouroussis_nicos_untitled', 'kouroussis_nicos_untitled', 'kouroussis_nicos_untitled', 'kouroussis_nicos_untitled', 'kouroussis_nicos_untitled', 'kouroussis_nicos_untitled', 'kouroussis_nicos_untitled', 'kouroussis_nicos_untitled', 'kouroussis_nicos_untitled', 'kouroussis_nicos_untitled', 'kouroussis_nicos_untitled', 'kouroussis_nicos_untitled', 'kouroussis_nicos_untitled', 'kouroussis_nicos_untitled', 'kouroussis_nicos_untitled', 'kouroussis_nicos_untitled', 'kouroussis_nicos_untitled', 'kouroussis_nicos_untitled', 'kouroussis_nicos_untitled', 'kouroussis_nicos_untitled', 'kouroussis_nicos_untitled', 'kouroussis_nicos_untitled', 'kouroussis_nicos_untitled', 'kouroussis_nicos_untitled', 'kouroussis_nicos_untitled', 'kouroussis_nicos_untitled', 'kouroussis_nicos_untitled', 'kouroussis_nicos_untitled', 'kouroussis_nicos_untitled', 'kouroussis_nicos_untitled', 'kouroussis_nicos_untitled', 'kouroussis_nicos_untitled', 'kouroussis_nicos_untitled', 'kouroussis_nicos_untitled', 'kouroussis_nicos_untitled', 'kouroussis_nicos_untitled', 'kouroussis_nicos_untitled', 'kouroussis_nicos_untitled', 'kouroussis_nicos_untitled', 'kouroussis_nicos_untitled', 'kouroussis_nicos_untitled', 'kouroussis_nicos_untitled', 'kouroussis_nicos_untitled', 'kouroussis_nicos_untitled', 'kouroussis_nicos_untitled', 'kouroussis_nicos_untitled', 'kouroussis_nicos_untitled', 'kouroussis_nicos_untitled', 'kouroussis_nicos_untitled', 'kouroussis_nicos_untitled', 'kouroussis_nicos_untitled', 'kouroussis_nicos_untitled', 'kouroussis_nicos_untitled', 'kouroussis_nicos_untitled', 'kouroussis_nicos_untitled', 'kouroussis_nicos_untitled', 'kouroussis_nicos_untitled', 'kouroussis_nicos_untitled', 'kouroussis_nicos_untitled', 'kouroussis_nicos_untitled', 'kouroussis_nicos_untitled', 'kouroussis_nicos_untitled', 'kouroussis_nicos_untitled', 'kouroussis_nicos_untitled', 'kouroussis_nicos_untitled', 'kouroussis_nicos_untitled', 'kouroussis_nicos_untitled', 'kouroussis_nicos_untitled', 'kouroussis_nicos_untitled', 'kouroussis_nicos_untitled', 'kouroussis_nicos_untitled', 'kouroussis_nicos_untitled', 'kouroussis_nicos_untitled', 'kouroussis_nicos_untitled', 'kouroussis_nicos_untitled', 'kouroussis_nicos_untitled', 'kouroussis_nicos_untitled', 'kouroussis_nicos_untitled', 'kouroussis_nicos_untitled', 'kouroussis_nicos_untitled', 'kouroussis_nicos_untitled', 'kouroussis_nicos_untitled', 'kouroussis_nicos_untitled', 'kouroussis_nicos_untitled', 'kouroussis_nicos_untitled', 'kouroussis_nicos_untitled', 'kouroussis_nicos_untitled', 'kouroussis_nicos_untitled', 'kouroussis_nicos_untitled', 'kouroussis_nicos_untitled', 'kouroussis_nicos_untitled', 'kouroussis_nicos_untitled', 'kouroussis_nicos_untitled', 'kouroussis_nicos_untitled', 'kouroussis_nicos_untitled', 'kouroussis_nicos_untitled', 'kouroussis_nicos_untitled', 'kouroussis_nicos_untitled', 'kouroussis_nicos_untitled', 'kouroussis_nicos_untitled', 'kouroussis_nicos_untitled', 'kouroussis_nicos_untitled', 'kouroussis_nicos_untitled', 'kouroussis_nicos_untitled', 'kouroussis_nicos_untitled', 'kouroussis_nicos_untitled', 'kouroussis_nicos_untitled', 'kouroussis_nicos_untitled', 'kouroussis_nicos_untitled', 'kouroussis_nicos_untitled', 'kouroussis_nicos_untitled', 'kouroussis_nicos_untitled', 'kouroussis_nicos_untitled', 'kouroussis_nicos_untitled', 'kouroussis_nicos_untitled', 'kouroussis_nicos_untitled', 'kouroussis_nicos_untitled', 'kouroussis_nicos_untitled', 'kouroussis_nicos_untitled', 'kouroussis_nicos_untitled', 'kouroussis_nicos_untitled', 'kouroussis_nicos_untitled', 'kouroussis_nicos_untitled', 'kouroussis_nicos_untitled', 'kouroussis_nicos_untitled', 'kouroussis_nicos_untitled', 'kouroussis_nicos_untitled', 'kouroussis_nicos_untitled', 'kouroussis_nicos_untitled', 'kouroussis_nicos_untitled', 'kouroussis_nicos_untitled', 'kouroussis_nicos_untitled', 'kouroussis_nicos_untitled', 'kouroussis_nicos_untitled', 'kouroussis_nicos_untitled', 'kouroussis_nicos_untitled', 'kouroussis_nicos_untitled', 'kouroussis_nicos_untitled', 'kouroussis_nicos_untitled', 'kouroussis_nicos_untitled', 'kouroussis_nicos_untitled', 'kouroussis_nicos_untitled', 'kouroussis_nicos_untitled', 'kouroussis_nicos_untitled', 'kouroussis_nicos_untitled', 'kouroussis_nicos_untitled', 'kouroussis_nicos_untitled', 'kouroussis_nicos_untitled', 'kouroussis_nicos_untitled', 'kouroussis_nicos_untitled', 'kouroussis_nicos_untitled', 'kouroussis_nicos_untitled', 'kouroussis_nicos_untitled', 'kouroussis_nicos_untitled', 'kouroussis_nicos_untitled', 'kouroussis_nicos_untitled', 'kouroussis_nicos_untitled', 'kouroussis_nicos_untitled', 'kouroussis_nicos_untitled', 'kouroussis_nicos_untitled', 'kouroussis_nicos_untitled', 'kouroussis_nicos_untitled', 'kouroussis_nicos_untitled', 'kouroussis_nicos_untitled', 'kouroussis_nicos_untitled', 'kouroussis_nicos_untitled', 'kouroussis_nicos_untitled', 'kouroussis_nicos_untitled', 'kouroussis_nicos_untitled', 'kouroussis_nicos_untitled', 'kouroussis_nicos_untitled', 'kouroussis_nicos_untitled', 'sfikas_george_2-3', 'sfikas_george_2-3', 'sfikas_george_2-3', 'sfikas_george_2-3', 'sfikas_george_2-3', 'sfikas_george_2-3', 'sfikas_george_2-3', 'sfikas_george_2-3', 'sfikas_george_2-3', 'sfikas_george_2-3', 'sfikas_george_2-3', 'sfikas_george_2-3', 'sfikas_george_2-3', 'sfikas_george_2-3', 'sfikas_george_2-3', 'sfikas_george_2-3', 'sfikas_george_2-3', 'sfikas_george_2-3', 'sfikas_george_2-3', 'sfikas_george_2-3', 'sfikas_george_2-3', 'sfikas_george_2-3', 'sfikas_george_2-3', 'sfikas_george_2-3', 'sfikas_george_2-3', 'sfikas_george_2-3', 'sfikas_george_2-3', 'sfikas_george_2-3', 'sfikas_george_2-3', 'sfikas_george_2-3', 'sfikas_george_2-3', 'sfikas_george_2-3', 'sfikas_george_2-3', 'sfikas_george_2-3', 'sfikas_george_2-3', 'sfikas_george_2-3', 'sfikas_george_2-3', 'sfikas_george_2-3', 'sfikas_george_2-3', 'sfikas_george_2-3', 'sfikas_george_2-3', 'sfikas_george_2-3', 'sfikas_george_2-3', 'sfikas_george_2-3', 'sfikas_george_2-3', 'sfikas_george_2-3', 'sfikas_george_2-3', 'sfikas_george_2-3', 'sfikas_george_2-3', 'sfikas_george_2-3', 'sfikas_george_2-3', 'sfikas_george_2-3', 'sfikas_george_2-3', 'sfikas_george_2-3', 'sfikas_george_2-3', 'sfikas_george_2-3', 'sfikas_george_2-3', 'sfikas_george_2-3', 'sfikas_george_2-3', 'sfikas_george_2-3', 'sfikas_george_2-3', 'sfikas_george_2-3', 'sfikas_george_2-3', 'sfikas_george_2-3', 'sfikas_george_2-3', 'sfikas_george_2-3', 'sfikas_george_2-3', 'sfikas_george_2-3', 'sfikas_george_2-3', 'sfikas_george_2-3', 'sfikas_george_2-3', 'sfikas_george_2-3', 'sfikas_george_2-3', 'sfikas_george_2-3', 'sfikas_george_2-3', 'sfikas_george_2-3', 'sfikas_george_2-3', 'sfikas_george_2-3', 'sfikas_george_2-3', 'sfikas_george_2-3', 'sfikas_george_2-3', 'sfikas_george_2-3', 'sfikas_george_2-3', 'sfikas_george_2-3', 'sfikas_george_2-3', 'sfikas_george_2-3', 'sfikas_george_2-3', 'sfikas_george_2-3', 'sfikas_george_2-3', 'sfikas_george_2-3', 'sfikas_george_2-3', 'sfikas_george_2-3', 'sfikas_george_2-3', 'sfikas_george_2-3', 'sfikas_george_2-3', 'sfikas_george_2-3', 'sfikas_george_2-3', 'sfikas_george_2-3', 'sfikas_george_2-3', 'sfikas_george_2-3', 'sfikas_george_2-3', 'sfikas_george_2-3', 'sfikas_george_2-3', 'sfikas_george_2-3', 'sfikas_george_2-3', 'sfikas_george_2-3', 'sfikas_george_2-3', 'sfikas_george_2-3', 'sfikas_george_2-3', 'sfikas_george_2-3', 'sfikas_george_2-3', 'sfikas_george_2-3', 'sfikas_george_2-3', 'sfikas_george_2-3', 'sfikas_george_2-3', 'sfikas_george_2-3', 'sfikas_george_2-3', 'sfikas_george_2-3', 'sfikas_george_2-3', 'sfikas_george_2-3', 'sfikas_george_2-3', 'sfikas_george_2-3', 'sfikas_george_2-3', 'sfikas_george_2-3', 'sfikas_george_2-3', 'sfikas_george_2-3', 'sfikas_george_2-3', 'sfikas_george_2-3', 'sfikas_george_2-3', 'sfikas_george_2-3', 'sfikas_george_2-3', 'sfikas_george_2-3', 'sfikas_george_2-3', 'sfikas_george_2-3', 'sfikas_george_2-3', 'sfikas_george_2-3', 'sfikas_george_2-3', 'sfikas_george_2-3', 'sfikas_george_2-3', 'sfikas_george_2-3', 'sfikas_george_2-3', 'sfikas_george_2-3', 'sfikas_george_2-3', 'sfikas_george_2-3', 'sfikas_george_2-3', 'sfikas_george_2-3', 'sfikas_george_2-3', 'sfikas_george_2-3', 'sfikas_george_2-3', 'sfikas_george_2-3', 'sfikas_george_2-3', 'sfikas_george_2-3', 'sfikas_george_2-3', 'sfikas_george_2-3', 'sfikas_george_2-3', 'sfikas_george_2-3', 'sfikas_george_2-3', 'sfikas_george_2-3', 'sfikas_george_2-3', 'sfikas_george_2-3', 'sfikas_george_2-3', 'sfikas_george_2-3', 'sfikas_george_2-3', 'sfikas_george_2-3', 'sfikas_george_2-3', 'sfikas_george_2-3', 'sfikas_george_2-3', 'sfikas_george_2-3', 'sfikas_george_2-3', 'sfikas_george_2-3', 'sfikas_george_2-3', 'sfikas_george_2-3', 'sfikas_george_2-3', 'sfikas_george_2-3', 'sfikas_george_2-3', 'sfikas_george_2-3', 'sfikas_george_2-3', 'sfikas_george_2-3', 'sfikas_george_2-3', 'sfikas_george_2-3', 'sfikas_george_2-3', 'sfikas_george_2-3', 'sfikas_george_2-3', 'sfikas_george_2-3', 'sfikas_george_2-3', 'sfikas_george_2-3', 'sfikas_george_2-3', 'sfikas_george_2-3', 'sfikas_george_2-3', 'sfikas_george_2-3', 'sfikas_george_2-3', 'sfikas_george_2-3', 'sfikas_george_2-3', 'sfikas_george_2-3', 'sfikas_george_2-3', 'sfikas_george_2-3', 'sfikas_george_2-3', 'sfikas_george_2-3', 'sfikas_george_2-3', 'sfikas_george_2-3', 'sfikas_george_2-3', 'sfikas_george_2-3', 'sfikas_george_2-3', 'sfikas_george_2-3', 'sfikas_george_2-3', 'sfikas_george_2-3', 'sfikas_george_2-3', 'sfikas_george_2-3', 'sfikas_george_2-3', 'sfikas_george_2-3', 'sfikas_george_2-3', 'sfikas_george_2-3', 'sfikas_george_2-3', 'sfikas_george_2-3', 'sfikas_george_2-3', 'sfikas_george_2-3', 'sfikas_george_2-3', 'sfikas_george_2-3', 'sfikas_george_2-3', 'sfikas_george_2-3', 'sfikas_george_2-3', 'sfikas_george_2-3', 'sfikas_george_2-3', 'sfikas_george_2-3', 'sfikas_george_2-3', 'sfikas_george_2-3', 'sfikas_george_2-3', 'sfikas_george_2-3', 'sfikas_george_2-3', 'sfikas_george_2-3', 'sfikas_george_2-3', 'sfikas_george_2-3', 'sfikas_george_2-3', 'sfikas_george_2-3', 'sfikas_george_2-3', 'sfikas_george_2-3', 'sfikas_george_2-3', 'sfikas_george_2-3', 'sfikas_george_2-3', 'sfikas_george_2-3', 'sfikas_george_2-3', 'sfikas_george_2-3', 'sfikas_george_2-3', 'sfikas_george_2-3', 'sfikas_george_2-3', 'sfikas_george_2-3', 'sfikas_george_2-3', 'sfikas_george_2-3', 'sfikas_george_2-3', 'sfikas_george_2-3', 'sfikas_george_2-3', 'sfikas_george_2-3', 'sfikas_george_2-3', 'sfikas_george_2-3', 'sfikas_george_2-3', 'sfikas_george_2-3', 'sfikas_george_2-3', 'sfikas_george_2-3', 'sfikas_george_2-3', 'sfikas_george_2-3', 'sfikas_george_2-3', 'sfikas_george_2-3', 'sfikas_george_2-3', 'sfikas_george_2-3', 'sfikas_george_2-3', 'sfikas_george_2-3', 'sfikas_george_2-3', 'sfikas_george_2-3', 'sfikas_george_2-3', 'sfikas_george_2-3', 'sfikas_george_2-3', 'sfikas_george_2-3', 'sfikas_george_2-3', 'sfikas_george_2-3', 'phinikarides_michael_armament', 'phinikarides_michael_armament', 'phinikarides_michael_armament', 'phinikarides_michael_armament', 'phinikarides_michael_armament', 'phinikarides_michael_armament', 'phinikarides_michael_armament', 'phinikarides_michael_armament', 'phinikarides_michael_armament', 'phinikarides_michael_armament', 'phinikarides_michael_armament', 'phinikarides_michael_armament', 'phinikarides_michael_armament', 'phinikarides_michael_armament', 'phinikarides_michael_armament', 'phinikarides_michael_armament', 'phinikarides_michael_armament', 'phinikarides_michael_armament', 'phinikarides_michael_armament', 'phinikarides_michael_armament', 'phinikarides_michael_armament', 'phinikarides_michael_armament', 'phinikarides_michael_armament', 'phinikarides_michael_armament', 'phinikarides_michael_armament', 'phinikarides_michael_armament', 'phinikarides_michael_armament', 'phinikarides_michael_armament', 'phinikarides_michael_armament', 'phinikarides_michael_armament', 'phinikarides_michael_armament', 'phinikarides_michael_armament', 'phinikarides_michael_armament', 'phinikarides_michael_armament', 'phinikarides_michael_armament', 'phinikarides_michael_armament', 'phinikarides_michael_armament', 'phinikarides_michael_armament', 'phinikarides_michael_armament', 'phinikarides_michael_armament', 'phinikarides_michael_armament', 'phinikarides_michael_armament', 'phinikarides_michael_armament', 'phinikarides_michael_armament', 'phinikarides_michael_armament', 'phinikarides_michael_armament', 'phinikarides_michael_armament', 'phinikarides_michael_armament', 'phinikarides_michael_armament', 'phinikarides_michael_armament', 'phinikarides_michael_armament', 'phinikarides_michael_armament', 'phinikarides_michael_armament', 'phinikarides_michael_armament', 'phinikarides_michael_armament', 'phinikarides_michael_armament', 'phinikarides_michael_armament', 'phinikarides_michael_armament', 'phinikarides_michael_armament', 'phinikarides_michael_armament', 'phinikarides_michael_armament', 'phinikarides_michael_armament', 'phinikarides_michael_armament', 'phinikarides_michael_armament', 'phinikarides_michael_armament', 'phinikarides_michael_armament', 'phinikarides_michael_armament', 'phinikarides_michael_armament', 'phinikarides_michael_armament', 'phinikarides_michael_armament', 'phinikarides_michael_armament', 'phinikarides_michael_armament', 'phinikarides_michael_armament', 'phinikarides_michael_armament', 'phinikarides_michael_armament', 'phinikarides_michael_armament', 'phinikarides_michael_armament', 'phinikarides_michael_armament', 'phinikarides_michael_armament', 'phinikarides_michael_armament', 'phinikarides_michael_armament', 'phinikarides_michael_armament', 'phinikarides_michael_armament', 'phinikarides_michael_armament', 'phinikarides_michael_armament', 'phinikarides_michael_armament', 'phinikarides_michael_armament', 'phinikarides_michael_armament', 'phinikarides_michael_armament', 'phinikarides_michael_armament', 'phinikarides_michael_armament', 'phinikarides_michael_armament', 'phinikarides_michael_armament', 'phinikarides_michael_armament', 'phinikarides_michael_armament', 'phinikarides_michael_armament', 'phinikarides_michael_armament', 'phinikarides_michael_armament', 'phinikarides_michael_armament', 'phinikarides_michael_armament', 'phinikarides_michael_armament', 'phinikarides_michael_armament', 'phinikarides_michael_armament', 'phinikarides_michael_armament', 'phinikarides_michael_armament', 'phinikarides_michael_armament', 'phinikarides_michael_armament', 'phinikarides_michael_armament', 'phinikarides_michael_armament', 'phinikarides_michael_armament', 'phinikarides_michael_armament', 'phinikarides_michael_armament', 'phinikarides_michael_armament', 'phinikarides_michael_armament', 'phinikarides_michael_armament', 'phinikarides_michael_armament', 'phinikarides_michael_armament', 'phinikarides_michael_armament', 'phinikarides_michael_armament', 'phinikarides_michael_armament', 'phinikarides_michael_armament', 'phinikarides_michael_armament', 'phinikarides_michael_armament', 'phinikarides_michael_armament', 'phinikarides_michael_armament', 'phinikarides_michael_armament', 'phinikarides_michael_armament', 'phinikarides_michael_armament', 'phinikarides_michael_armament', 'phinikarides_michael_armament', 'phinikarides_michael_armament', 'phinikarides_michael_armament', 'phinikarides_michael_armament', 'phinikarides_michael_armament', 'phinikarides_michael_armament', 'phinikarides_michael_armament', 'phinikarides_michael_armament', 'phinikarides_michael_armament', 'phinikarides_michael_armament', 'phinikarides_michael_armament', 'phinikarides_michael_armament', 'phinikarides_michael_armament', 'phinikarides_michael_armament', 'phinikarides_michael_armament', 'phinikarides_michael_armament', 'phinikarides_michael_armament', 'phinikarides_michael_armament', 'phinikarides_michael_armament', 'phinikarides_michael_armament', 'phinikarides_michael_armament', 'phinikarides_michael_armament', 'phinikarides_michael_armament', 'phinikarides_michael_armament', 'phinikarides_michael_armament', 'phinikarides_michael_armament', 'phinikarides_michael_armament', 'phinikarides_michael_armament', 'phinikarides_michael_armament', 'phinikarides_michael_armament', 'phinikarides_michael_armament', 'phinikarides_michael_armament', 'phinikarides_michael_armament', 'phinikarides_michael_armament', 'phinikarides_michael_armament', 'phinikarides_michael_armament', 'phinikarides_michael_armament', 'phinikarides_michael_armament', 'phinikarides_michael_armament', 'phinikarides_michael_armament', 'phinikarides_michael_armament', 'phinikarides_michael_armament', 'phinikarides_michael_armament', 'phinikarides_michael_armament', 'phinikarides_michael_armament', 'phinikarides_michael_armament', 'phinikarides_michael_armament', 'phinikarides_michael_armament', 'phinikarides_michael_armament', 'phinikarides_michael_armament', 'phinikarides_michael_armament', 'phinikarides_michael_armament', 'phinikarides_michael_armament', 'phinikarides_michael_armament', 'phinikarides_michael_armament', 'phinikarides_michael_armament', 'phinikarides_michael_armament', 'phinikarides_michael_armament', 'phinikarides_michael_armament', 'phinikarides_michael_armament', 'phinikarides_michael_armament', 'phinikarides_michael_armament', 'phinikarides_michael_armament', 'phinikarides_michael_armament', 'phinikarides_michael_armament', 'phinikarides_michael_armament', 'phinikarides_michael_armament', 'phinikarides_michael_armament', 'phinikarides_michael_armament', 'phinikarides_michael_armament', 'phinikarides_michael_armament', 'phinikarides_michael_armament', 'phinikarides_michael_armament', 'phinikarides_michael_armament', 'phinikarides_michael_armament', 'phinikarides_michael_armament', 'phinikarides_michael_armament', 'phinikarides_michael_armament', 'phinikarides_michael_armament', 'phinikarides_michael_armament', 'phinikarides_michael_armament', 'phinikarides_michael_armament', 'phinikarides_michael_armament', 'phinikarides_michael_armament', 'phinikarides_michael_armament', 'phinikarides_michael_armament', 'phinikarides_michael_armament', 'phinikarides_michael_armament', 'phinikarides_michael_armament', 'phinikarides_michael_armament', 'phinikarides_michael_armament', 'phinikarides_michael_armament', 'phinikarides_michael_armament', 'phinikarides_michael_armament', 'phinikarides_michael_armament', 'phinikarides_michael_armament', 'phinikarides_michael_armament', 'phinikarides_michael_armament', 'phinikarides_michael_armament', 'phinikarides_michael_armament', 'phinikarides_michael_armament', 'phinikarides_michael_armament', 'phinikarides_michael_armament', 'phinikarides_michael_armament', 'phinikarides_michael_armament', 'phinikarides_michael_armament', 'phinikarides_michael_armament', 'phinikarides_michael_armament', 'phinikarides_michael_armament', 'phinikarides_michael_armament', 'phinikarides_michael_armament', 'phinikarides_michael_armament', 'phinikarides_michael_armament', 'phinikarides_michael_armament', 'phinikarides_michael_armament', 'phinikarides_michael_armament', 'phinikarides_michael_armament', 'phinikarides_michael_armament', 'phinikarides_michael_armament', 'phinikarides_michael_armament', 'phinikarides_michael_armament', 'phinikarides_michael_armament', 'phinikarides_michael_armament', 'phinikarides_michael_armament', 'phinikarides_michael_armament', 'phinikarides_michael_armament', 'phinikarides_michael_armament', 'phinikarides_michael_armament', 'phinikarides_michael_armament', 'phinikarides_michael_armament', 'phinikarides_michael_armament', 'phinikarides_michael_armament', 'phinikarides_michael_armament', 'phinikarides_michael_armament', 'phinikarides_michael_armament', 'phinikarides_michael_armament', 'phinikarides_michael_armament', 'phinikarides_michael_armament', 'phinikarides_michael_armament', 'phinikarides_michael_armament', 'phinikarides_michael_armament', 'phinikarides_michael_armament', 'phinikarides_michael_armament', 'phinikarides_michael_armament', 'phinikarides_michael_armament', 'phinikarides_michael_armament', 'phinikarides_michael_armament', 'phinikarides_michael_armament', 'phinikarides_michael_armament', 'phinikarides_michael_armament', 'phinikarides_michael_armament', 'phinikarides_michael_armament', 'phinikarides_michael_armament', 'phinikarides_michael_armament', 'phinikarides_michael_armament', 'phinikarides_michael_armament', 'phinikarides_michael_armament', 'phinikarides_michael_armament', 'phinikarides_michael_armament', 'phinikarides_michael_armament', 'phinikarides_michael_armament', 'phinikarides_michael_armament', 'chrysochos_andreas_throne_ii', 'chrysochos_andreas_throne_ii', 'chrysochos_andreas_throne_ii', 'chrysochos_andreas_throne_ii', 'chrysochos_andreas_throne_ii', 'chrysochos_andreas_throne_ii', 'chrysochos_andreas_throne_ii', 'chrysochos_andreas_throne_ii', 'chrysochos_andreas_throne_ii', 'chrysochos_andreas_throne_ii', 'chrysochos_andreas_throne_ii', 'chrysochos_andreas_throne_ii', 'chrysochos_andreas_throne_ii', 'chrysochos_andreas_throne_ii', 'chrysochos_andreas_throne_ii', 'chrysochos_andreas_throne_ii', 'chrysochos_andreas_throne_ii', 'chrysochos_andreas_throne_ii', 'chrysochos_andreas_throne_ii', 'chrysochos_andreas_throne_ii', 'chrysochos_andreas_throne_ii', 'chrysochos_andreas_throne_ii', 'chrysochos_andreas_throne_ii', 'chrysochos_andreas_throne_ii', 'chrysochos_andreas_throne_ii', 'chrysochos_andreas_throne_ii', 'chrysochos_andreas_throne_ii', 'chrysochos_andreas_throne_ii', 'chrysochos_andreas_throne_ii', 'chrysochos_andreas_throne_ii', 'chrysochos_andreas_throne_ii', 'chrysochos_andreas_throne_ii', 'chrysochos_andreas_throne_ii', 'chrysochos_andreas_throne_ii', 'chrysochos_andreas_throne_ii', 'chrysochos_andreas_throne_ii', 'chrysochos_andreas_throne_ii', 'chrysochos_andreas_throne_ii', 'chrysochos_andreas_throne_ii', 'chrysochos_andreas_throne_ii', 'chrysochos_andreas_throne_ii', 'chrysochos_andreas_throne_ii', 'chrysochos_andreas_throne_ii', 'chrysochos_andreas_throne_ii', 'chrysochos_andreas_throne_ii', 'chrysochos_andreas_throne_ii', 'chrysochos_andreas_throne_ii', 'chrysochos_andreas_throne_ii', 'chrysochos_andreas_throne_ii', 'chrysochos_andreas_throne_ii', 'chrysochos_andreas_throne_ii', 'chrysochos_andreas_throne_ii', 'chrysochos_andreas_throne_ii', 'chrysochos_andreas_throne_ii', 'chrysochos_andreas_throne_ii', 'chrysochos_andreas_throne_ii', 'chrysochos_andreas_throne_ii', 'chrysochos_andreas_throne_ii', 'chrysochos_andreas_throne_ii', 'chrysochos_andreas_throne_ii', 'chrysochos_andreas_throne_ii', 'chrysochos_andreas_throne_ii', 'chrysochos_andreas_throne_ii', 'chrysochos_andreas_throne_ii', 'chrysochos_andreas_throne_ii', 'chrysochos_andreas_throne_ii', 'chrysochos_andreas_throne_ii', 'chrysochos_andreas_throne_ii', 'chrysochos_andreas_throne_ii', 'chrysochos_andreas_throne_ii', 'chrysochos_andreas_throne_ii', 'chrysochos_andreas_throne_ii', 'chrysochos_andreas_throne_ii', 'chrysochos_andreas_throne_ii', 'chrysochos_andreas_throne_ii', 'chrysochos_andreas_throne_ii', 'chrysochos_andreas_throne_ii', 'chrysochos_andreas_throne_ii', 'chrysochos_andreas_throne_ii', 'chrysochos_andreas_throne_ii', 'chrysochos_andreas_throne_ii', 'chrysochos_andreas_throne_ii', 'chrysochos_andreas_throne_ii', 'chrysochos_andreas_throne_ii', 'chrysochos_andreas_throne_ii', 'chrysochos_andreas_throne_ii', 'chrysochos_andreas_throne_ii', 'chrysochos_andreas_throne_ii', 'chrysochos_andreas_throne_ii', 'chrysochos_andreas_throne_ii', 'chrysochos_andreas_throne_ii', 'chrysochos_andreas_throne_ii', 'chrysochos_andreas_throne_ii', 'chrysochos_andreas_throne_ii', 'chrysochos_andreas_throne_ii', 'chrysochos_andreas_throne_ii', 'chrysochos_andreas_throne_ii', 'chrysochos_andreas_throne_ii', 'chrysochos_andreas_throne_ii', 'chrysochos_andreas_throne_ii', 'chrysochos_andreas_throne_ii', 'chrysochos_andreas_throne_ii', 'chrysochos_andreas_throne_ii', 'chrysochos_andreas_throne_ii', 'chrysochos_andreas_throne_ii', 'chrysochos_andreas_throne_ii', 'chrysochos_andreas_throne_ii', 'chrysochos_andreas_throne_ii', 'chrysochos_andreas_throne_ii', 'chrysochos_andreas_throne_ii', 'chrysochos_andreas_throne_ii', 'chrysochos_andreas_throne_ii', 'chrysochos_andreas_throne_ii', 'chrysochos_andreas_throne_ii', 'chrysochos_andreas_throne_ii', 'chrysochos_andreas_throne_ii', 'chrysochos_andreas_throne_ii', 'chrysochos_andreas_throne_ii', 'chrysochos_andreas_throne_ii', 'chrysochos_andreas_throne_ii', 'chrysochos_andreas_throne_ii', 'chrysochos_andreas_throne_ii', 'chrysochos_andreas_throne_ii', 'chrysochos_andreas_throne_ii', 'chrysochos_andreas_throne_ii', 'chrysochos_andreas_throne_ii', 'chrysochos_andreas_throne_ii', 'chrysochos_andreas_throne_ii', 'chrysochos_andreas_throne_ii', 'chrysochos_andreas_throne_ii', 'chrysochos_andreas_throne_ii', 'chrysochos_andreas_throne_ii', 'chrysochos_andreas_throne_ii', 'chrysochos_andreas_throne_ii', 'chrysochos_andreas_throne_ii', 'chrysochos_andreas_throne_ii', 'chrysochos_andreas_throne_ii', 'chrysochos_andreas_throne_ii', 'chrysochos_andreas_throne_ii', 'chrysochos_andreas_throne_ii', 'chrysochos_andreas_throne_ii', 'chrysochos_andreas_throne_ii', 'chrysochos_andreas_throne_ii', 'chrysochos_andreas_throne_ii', 'chrysochos_andreas_throne_ii', 'chrysochos_andreas_throne_ii', 'chrysochos_andreas_throne_ii', 'chrysochos_andreas_throne_ii', 'chrysochos_andreas_throne_ii', 'chrysochos_andreas_throne_ii', 'chrysochos_andreas_throne_ii', 'chrysochos_andreas_throne_ii', 'chrysochos_andreas_throne_ii', 'chrysochos_andreas_throne_ii', 'chrysochos_andreas_throne_ii', 'chrysochos_andreas_throne_ii', 'chrysochos_andreas_throne_ii', 'chrysochos_andreas_throne_ii', 'chrysochos_andreas_throne_ii', 'chrysochos_andreas_throne_ii', 'chrysochos_andreas_throne_ii', 'chrysochos_andreas_throne_ii', 'chrysochos_andreas_throne_ii', 'chrysochos_andreas_throne_ii', 'chrysochos_andreas_throne_ii', 'chrysochos_andreas_throne_ii', 'chrysochos_andreas_throne_ii', 'chrysochos_andreas_throne_ii', 'chrysochos_andreas_throne_ii', 'chrysochos_andreas_throne_ii', 'chrysochos_andreas_throne_ii', 'chrysochos_andreas_throne_ii', 'chrysochos_andreas_throne_ii', 'chrysochos_andreas_throne_ii', 'chrysochos_andreas_throne_ii', 'chrysochos_andreas_throne_ii', 'chrysochos_andreas_throne_ii', 'chrysochos_andreas_throne_ii', 'chrysochos_andreas_throne_ii', 'chrysochos_andreas_throne_ii', 'chrysochos_andreas_throne_ii', 'chrysochos_andreas_throne_ii', 'chrysochos_andreas_throne_ii', 'chrysochos_andreas_throne_ii', 'chrysochos_andreas_throne_ii', 'chrysochos_andreas_throne_ii', 'chrysochos_andreas_throne_ii', 'chrysochos_andreas_throne_ii', 'chrysochos_andreas_throne_ii', 'chrysochos_andreas_throne_ii', 'chrysochos_andreas_throne_ii', 'chrysochos_andreas_throne_ii', 'chrysochos_andreas_throne_ii', 'chrysochos_andreas_throne_ii', 'chrysochos_andreas_throne_ii', 'chrysochos_andreas_throne_ii', 'chrysochos_andreas_throne_ii', 'chrysochos_andreas_throne_ii', 'chrysochos_andreas_throne_ii', 'chrysochos_andreas_throne_ii', 'chrysochos_andreas_throne_ii', 'chrysochos_andreas_throne_ii', 'chrysochos_andreas_throne_ii', 'chrysochos_andreas_throne_ii', 'chrysochos_andreas_throne_ii', 'chrysochos_andreas_throne_ii', 'chrysochos_andreas_throne_ii', 'chrysochos_andreas_throne_ii', 'chrysochos_andreas_throne_ii', 'chrysochos_andreas_throne_ii', 'chrysochos_andreas_throne_ii', 'chrysochos_andreas_throne_ii', 'chrysochos_andreas_throne_ii', 'chrysochos_andreas_throne_ii', 'chrysochos_andreas_throne_ii', 'chrysochos_andreas_throne_ii', 'chrysochos_andreas_throne_ii', 'chrysochos_andreas_throne_ii', 'chrysochos_andreas_throne_ii', 'chrysochos_andreas_throne_ii', 'chrysochos_andreas_throne_ii', 'chrysochos_andreas_throne_ii', 'chrysochos_andreas_throne_ii', 'chrysochos_andreas_throne_ii', 'chrysochos_andreas_throne_ii', 'chrysochos_andreas_throne_ii', 'chrysochos_andreas_throne_ii', 'chrysochos_andreas_throne_ii', 'chrysochos_andreas_throne_ii', 'chrysochos_andreas_throne_ii', 'chrysochos_andreas_throne_ii', 'chrysochos_andreas_throne_ii', 'chrysochos_andreas_throne_ii', 'chrysochos_andreas_throne_ii', 'chrysochos_andreas_throne_ii', 'chrysochos_andreas_throne_ii', 'chrysochos_andreas_throne_ii', 'chrysochos_andreas_throne_ii', 'chrysochos_andreas_throne_ii', 'chrysochos_andreas_throne_ii', 'chrysochos_andreas_throne_ii', 'chrysochos_andreas_throne_ii', 'chrysochos_andreas_throne_ii', 'chrysochos_andreas_throne_ii', 'chrysochos_andreas_throne_ii', 'chrysochos_andreas_throne_ii', 'chrysochos_andreas_throne_ii', 'chrysochos_andreas_throne_ii', 'chrysochos_andreas_throne_ii', 'chrysochos_andreas_throne_ii', 'chrysochos_andreas_throne_ii', 'chrysochos_andreas_throne_ii', 'chrysochos_andreas_throne_ii', 'chrysochos_andreas_throne_ii', 'chrysochos_andreas_throne_ii', 'chrysochos_andreas_throne_ii', 'chrysochos_andreas_throne_ii', 'chrysochos_andreas_throne_ii', 'chrysochos_andreas_throne_ii', 'chrysochos_andreas_throne_ii', 'chrysochos_andreas_throne_ii', 'chrysochos_andreas_throne_ii', 'chrysochos_andreas_throne_ii', 'chrysochos_andreas_throne_ii', 'chrysochos_andreas_throne_ii', 'chrysochos_andreas_throne_ii', 'chrysochos_andreas_throne_ii', 'chrysochos_andreas_throne_ii', 'chrysochos_andreas_throne_ii', 'chrysochos_andreas_throne_ii', 'chrysochos_andreas_throne_ii', 'chrysochos_andreas_throne_ii', 'chrysochos_andreas_throne_ii', 'chrysochos_andreas_throne_ii', 'chrysochos_andreas_throne_ii', 'chrysochos_andreas_throne_ii', 'chrysochos_andreas_throne_ii', 'chrysochos_andreas_throne_ii', 'chrysochos_andreas_throne_ii', 'chrysochos_andreas_throne_ii', 'chrysochos_andreas_throne_ii', 'chrysochos_andreas_throne_ii', 'chrysochos_andreas_throne_ii', 'chrysochos_andreas_throne_ii', 'chrysochos_andreas_throne_ii', 'chrysochos_andreas_throne_ii', 'chrysochos_andreas_autumn', 'chrysochos_andreas_autumn', 'chrysochos_andreas_autumn', 'chrysochos_andreas_autumn', 'chrysochos_andreas_autumn', 'chrysochos_andreas_autumn', 'chrysochos_andreas_autumn', 'chrysochos_andreas_autumn', 'chrysochos_andreas_autumn', 'chrysochos_andreas_autumn', 'chrysochos_andreas_autumn', 'chrysochos_andreas_autumn', 'chrysochos_andreas_autumn', 'chrysochos_andreas_autumn', 'chrysochos_andreas_autumn', 'chrysochos_andreas_autumn', 'chrysochos_andreas_autumn', 'chrysochos_andreas_autumn', 'chrysochos_andreas_autumn', 'chrysochos_andreas_autumn', 'chrysochos_andreas_autumn', 'chrysochos_andreas_autumn', 'chrysochos_andreas_autumn', 'chrysochos_andreas_autumn', 'chrysochos_andreas_autumn', 'chrysochos_andreas_autumn', 'chrysochos_andreas_autumn', 'chrysochos_andreas_autumn', 'chrysochos_andreas_autumn', 'chrysochos_andreas_autumn', 'chrysochos_andreas_autumn', 'chrysochos_andreas_autumn', 'chrysochos_andreas_autumn', 'chrysochos_andreas_autumn', 'chrysochos_andreas_autumn', 'chrysochos_andreas_autumn', 'chrysochos_andreas_autumn', 'chrysochos_andreas_autumn', 'chrysochos_andreas_autumn', 'chrysochos_andreas_autumn', 'chrysochos_andreas_autumn', 'chrysochos_andreas_autumn', 'chrysochos_andreas_autumn', 'chrysochos_andreas_autumn', 'chrysochos_andreas_autumn', 'chrysochos_andreas_autumn', 'chrysochos_andreas_autumn', 'chrysochos_andreas_autumn', 'chrysochos_andreas_autumn', 'chrysochos_andreas_autumn', 'chrysochos_andreas_autumn', 'chrysochos_andreas_autumn', 'chrysochos_andreas_autumn', 'chrysochos_andreas_autumn', 'chrysochos_andreas_autumn', 'chrysochos_andreas_autumn', 'chrysochos_andreas_autumn', 'chrysochos_andreas_autumn', 'chrysochos_andreas_autumn', 'chrysochos_andreas_autumn', 'chrysochos_andreas_autumn', 'chrysochos_andreas_autumn', 'chrysochos_andreas_autumn', 'chrysochos_andreas_autumn', 'chrysochos_andreas_autumn', 'chrysochos_andreas_autumn', 'chrysochos_andreas_autumn', 'chrysochos_andreas_autumn', 'chrysochos_andreas_autumn', 'chrysochos_andreas_autumn', 'chrysochos_andreas_autumn', 'chrysochos_andreas_autumn', 'chrysochos_andreas_autumn', 'chrysochos_andreas_autumn', 'chrysochos_andreas_autumn', 'chrysochos_andreas_autumn', 'chrysochos_andreas_autumn', 'chrysochos_andreas_autumn', 'chrysochos_andreas_autumn', 'chrysochos_andreas_autumn', 'chrysochos_andreas_autumn', 'chrysochos_andreas_autumn', 'chrysochos_andreas_autumn', 'chrysochos_andreas_autumn', 'chrysochos_andreas_autumn', 'chrysochos_andreas_autumn', 'chrysochos_andreas_autumn', 'chrysochos_andreas_autumn', 'chrysochos_andreas_autumn', 'chrysochos_andreas_autumn', 'chrysochos_andreas_autumn', 'chrysochos_andreas_autumn', 'chrysochos_andreas_autumn', 'chrysochos_andreas_autumn', 'chrysochos_andreas_autumn', 'chrysochos_andreas_autumn', 'chrysochos_andreas_autumn', 'chrysochos_andreas_autumn', 'chrysochos_andreas_autumn', 'chrysochos_andreas_autumn', 'chrysochos_andreas_autumn', 'chrysochos_andreas_autumn', 'chrysochos_andreas_autumn', 'chrysochos_andreas_autumn', 'chrysochos_andreas_autumn', 'chrysochos_andreas_autumn', 'chrysochos_andreas_autumn', 'chrysochos_andreas_autumn', 'chrysochos_andreas_autumn', 'chrysochos_andreas_autumn', 'chrysochos_andreas_autumn', 'chrysochos_andreas_autumn', 'chrysochos_andreas_autumn', 'chrysochos_andreas_autumn', 'chrysochos_andreas_autumn', 'chrysochos_andreas_autumn', 'chrysochos_andreas_autumn', 'chrysochos_andreas_autumn', 'chrysochos_andreas_autumn', 'chrysochos_andreas_autumn', 'chrysochos_andreas_autumn', 'chrysochos_andreas_autumn', 'chrysochos_andreas_autumn', 'chrysochos_andreas_autumn', 'chrysochos_andreas_autumn', 'chrysochos_andreas_autumn', 'chrysochos_andreas_autumn', 'chrysochos_andreas_autumn', 'chrysochos_andreas_autumn', 'chrysochos_andreas_autumn', 'chrysochos_andreas_autumn', 'chrysochos_andreas_autumn', 'chrysochos_andreas_autumn', 'chrysochos_andreas_autumn', 'chrysochos_andreas_autumn', 'chrysochos_andreas_autumn', 'chrysochos_andreas_autumn', 'chrysochos_andreas_autumn', 'chrysochos_andreas_autumn', 'chrysochos_andreas_autumn', 'chrysochos_andreas_autumn', 'chrysochos_andreas_autumn', 'chrysochos_andreas_autumn', 'chrysochos_andreas_autumn', 'chrysochos_andreas_autumn', 'chrysochos_andreas_autumn', 'chrysochos_andreas_autumn', 'chrysochos_andreas_autumn', 'chrysochos_andreas_autumn', 'chrysochos_andreas_autumn', 'chrysochos_andreas_autumn', 'chrysochos_andreas_autumn', 'chrysochos_andreas_autumn', 'chrysochos_andreas_autumn', 'chrysochos_andreas_autumn', 'chrysochos_andreas_autumn', 'chrysochos_andreas_autumn', 'chrysochos_andreas_autumn', 'chrysochos_andreas_autumn', 'chrysochos_andreas_autumn', 'chrysochos_andreas_autumn', 'chrysochos_andreas_autumn', 'chrysochos_andreas_autumn', 'chrysochos_andreas_autumn', 'chrysochos_andreas_autumn', 'chrysochos_andreas_autumn', 'chrysochos_andreas_autumn', 'chrysochos_andreas_autumn', 'chrysochos_andreas_autumn', 'chrysochos_andreas_autumn', 'chrysochos_andreas_autumn', 'chrysochos_andreas_autumn', 'chrysochos_andreas_autumn', 'chrysochos_andreas_autumn', 'chrysochos_andreas_autumn', 'chrysochos_andreas_autumn', 'chrysochos_andreas_autumn', 'chrysochos_andreas_autumn', 'chrysochos_andreas_autumn', 'chrysochos_andreas_autumn', 'chrysochos_andreas_autumn', 'chrysochos_andreas_autumn', 'chrysochos_andreas_autumn', 'chrysochos_andreas_autumn', 'chrysochos_andreas_autumn', 'chrysochos_andreas_autumn', 'chrysochos_andreas_autumn', 'chrysochos_andreas_autumn', 'chrysochos_andreas_autumn', 'chrysochos_andreas_autumn', 'chrysochos_andreas_autumn', 'chrysochos_andreas_autumn', 'chrysochos_andreas_autumn', 'chrysochos_andreas_autumn', 'chrysochos_andreas_autumn', 'chrysochos_andreas_autumn', 'chrysochos_andreas_autumn', 'chrysochos_andreas_autumn', 'chrysochos_andreas_autumn', 'chrysochos_andreas_autumn', 'chrysochos_andreas_autumn', 'chrysochos_andreas_autumn', 'chrysochos_andreas_autumn', 'chrysochos_andreas_autumn', 'chrysochos_andreas_autumn', 'chrysochos_andreas_autumn', 'chrysochos_andreas_autumn', 'chrysochos_andreas_autumn', 'chrysochos_andreas_autumn', 'chrysochos_andreas_autumn', 'chrysochos_andreas_autumn', 'chrysochos_andreas_autumn', 'chrysochos_andreas_autumn', 'chrysochos_andreas_autumn', 'chrysochos_andreas_autumn', 'chrysochos_andreas_autumn', 'chrysochos_andreas_autumn', 'chrysochos_andreas_autumn', 'chrysochos_andreas_autumn', 'chrysochos_andreas_autumn', 'chrysochos_andreas_autumn', 'chrysochos_andreas_autumn', 'chrysochos_andreas_autumn', 'chrysochos_andreas_autumn', 'chrysochos_andreas_autumn', 'chrysochos_andreas_autumn', 'chrysochos_andreas_autumn', 'chrysochos_andreas_autumn', 'chrysochos_andreas_autumn', 'chrysochos_andreas_autumn', 'chrysochos_andreas_autumn', 'chrysochos_andreas_autumn', 'chrysochos_andreas_autumn', 'chrysochos_andreas_autumn', 'chrysochos_andreas_autumn', 'chrysochos_andreas_autumn', 'chrysochos_andreas_autumn', 'chrysochos_andreas_autumn', 'chrysochos_andreas_autumn', 'chrysochos_andreas_autumn', 'chrysochos_andreas_autumn', 'chrysochos_andreas_autumn', 'chrysochos_andreas_autumn', 'chrysochos_andreas_autumn', 'chrysochos_andreas_autumn', 'chrysochos_andreas_autumn', 'chrysochos_andreas_autumn', 'chrysochos_andreas_autumn', 'chrysochos_andreas_autumn', 'chrysochos_andreas_autumn', 'chrysochos_andreas_autumn', 'chrysochos_andreas_autumn', 'chrysochos_andreas_autumn', 'chrysochos_andreas_autumn', 'chrysochos_andreas_autumn', 'chrysochos_andreas_autumn', 'chrysochos_andreas_autumn', 'chrysochos_andreas_autumn', 'chrysochos_andreas_autumn', 'chrysochos_andreas_autumn', 'chrysochos_andreas_autumn', 'chrysochos_andreas_autumn', 'chrysochos_andreas_autumn', 'chrysochos_andreas_autumn', 'chrysochos_andreas_autumn', 'chrysochos_andreas_autumn', 'chrysochos_andreas_autumn', 'chrysochos_andreas_autumn', 'chrysochos_andreas_autumn', 'chrysochos_andreas_autumn', 'chrysochos_andreas_autumn', 'chrysochos_andreas_autumn', 'chrysochos_andreas_autumn', 'chrysochos_andreas_autumn', 'chrysochos_andreas_autumn', 'chrysochos_andreas_autumn', 'chrysochos_andreas_autumn', 'chrysochos_andreas_autumn', 'chrysochos_andreas_autumn', 'chrysochos_andreas_autumn', 'chrysochos_andreas_autumn', 'chrysochos_andreas_autumn', 'chrysochos_andreas_autumn', 'chrysochos_andreas_autumn', 'chrysochos_andreas_autumn', 'chrysochos_andreas_autumn', 'chrysochos_andreas_autumn', 'chrysochos_andreas_autumn', 'chrysochos_andreas_autumn', 'chrysochos_andreas_game_of_shapes', 'chrysochos_andreas_game_of_shapes', 'chrysochos_andreas_game_of_shapes', 'chrysochos_andreas_game_of_shapes', 'chrysochos_andreas_game_of_shapes', 'chrysochos_andreas_game_of_shapes', 'chrysochos_andreas_game_of_shapes', 'chrysochos_andreas_game_of_shapes', 'chrysochos_andreas_game_of_shapes', 'chrysochos_andreas_game_of_shapes', 'chrysochos_andreas_game_of_shapes', 'chrysochos_andreas_game_of_shapes', 'chrysochos_andreas_game_of_shapes', 'chrysochos_andreas_game_of_shapes', 'chrysochos_andreas_game_of_shapes', 'chrysochos_andreas_game_of_shapes', 'chrysochos_andreas_game_of_shapes', 'chrysochos_andreas_game_of_shapes', 'chrysochos_andreas_game_of_shapes', 'chrysochos_andreas_game_of_shapes', 'chrysochos_andreas_game_of_shapes', 'chrysochos_andreas_game_of_shapes', 'chrysochos_andreas_game_of_shapes', 'chrysochos_andreas_game_of_shapes', 'chrysochos_andreas_game_of_shapes', 'chrysochos_andreas_game_of_shapes', 'chrysochos_andreas_game_of_shapes', 'chrysochos_andreas_game_of_shapes', 'chrysochos_andreas_game_of_shapes', 'chrysochos_andreas_game_of_shapes', 'chrysochos_andreas_game_of_shapes', 'chrysochos_andreas_game_of_shapes', 'chrysochos_andreas_game_of_shapes', 'chrysochos_andreas_game_of_shapes', 'chrysochos_andreas_game_of_shapes', 'chrysochos_andreas_game_of_shapes', 'chrysochos_andreas_game_of_shapes', 'chrysochos_andreas_game_of_shapes', 'chrysochos_andreas_game_of_shapes', 'chrysochos_andreas_game_of_shapes', 'chrysochos_andreas_game_of_shapes', 'chrysochos_andreas_game_of_shapes', 'chrysochos_andreas_game_of_shapes', 'chrysochos_andreas_game_of_shapes', 'chrysochos_andreas_game_of_shapes', 'chrysochos_andreas_game_of_shapes', 'chrysochos_andreas_game_of_shapes', 'chrysochos_andreas_game_of_shapes', 'chrysochos_andreas_game_of_shapes', 'chrysochos_andreas_game_of_shapes', 'chrysochos_andreas_game_of_shapes', 'chrysochos_andreas_game_of_shapes', 'chrysochos_andreas_game_of_shapes', 'chrysochos_andreas_game_of_shapes', 'chrysochos_andreas_game_of_shapes', 'chrysochos_andreas_game_of_shapes', 'chrysochos_andreas_game_of_shapes', 'chrysochos_andreas_game_of_shapes', 'chrysochos_andreas_game_of_shapes', 'chrysochos_andreas_game_of_shapes', 'chrysochos_andreas_game_of_shapes', 'chrysochos_andreas_game_of_shapes', 'chrysochos_andreas_game_of_shapes', 'chrysochos_andreas_game_of_shapes', 'chrysochos_andreas_game_of_shapes', 'chrysochos_andreas_game_of_shapes', 'chrysochos_andreas_game_of_shapes', 'chrysochos_andreas_game_of_shapes', 'chrysochos_andreas_game_of_shapes', 'chrysochos_andreas_game_of_shapes', 'chrysochos_andreas_game_of_shapes', 'chrysochos_andreas_game_of_shapes', 'chrysochos_andreas_game_of_shapes', 'chrysochos_andreas_game_of_shapes', 'chrysochos_andreas_game_of_shapes', 'chrysochos_andreas_game_of_shapes', 'chrysochos_andreas_game_of_shapes', 'chrysochos_andreas_game_of_shapes', 'chrysochos_andreas_game_of_shapes', 'chrysochos_andreas_game_of_shapes', 'chrysochos_andreas_game_of_shapes', 'chrysochos_andreas_game_of_shapes', 'chrysochos_andreas_game_of_shapes', 'chrysochos_andreas_game_of_shapes', 'chrysochos_andreas_game_of_shapes', 'chrysochos_andreas_game_of_shapes', 'chrysochos_andreas_game_of_shapes', 'chrysochos_andreas_game_of_shapes', 'chrysochos_andreas_game_of_shapes', 'chrysochos_andreas_game_of_shapes', 'chrysochos_andreas_game_of_shapes', 'chrysochos_andreas_game_of_shapes', 'chrysochos_andreas_game_of_shapes', 'chrysochos_andreas_game_of_shapes', 'chrysochos_andreas_game_of_shapes', 'chrysochos_andreas_game_of_shapes', 'chrysochos_andreas_game_of_shapes', 'chrysochos_andreas_game_of_shapes', 'chrysochos_andreas_game_of_shapes', 'chrysochos_andreas_game_of_shapes', 'chrysochos_andreas_game_of_shapes', 'chrysochos_andreas_game_of_shapes', 'chrysochos_andreas_game_of_shapes', 'chrysochos_andreas_game_of_shapes', 'chrysochos_andreas_game_of_shapes', 'chrysochos_andreas_game_of_shapes', 'chrysochos_andreas_game_of_shapes', 'chrysochos_andreas_game_of_shapes', 'chrysochos_andreas_game_of_shapes', 'chrysochos_andreas_game_of_shapes', 'chrysochos_andreas_game_of_shapes', 'chrysochos_andreas_game_of_shapes', 'chrysochos_andreas_game_of_shapes', 'chrysochos_andreas_game_of_shapes', 'chrysochos_andreas_game_of_shapes', 'chrysochos_andreas_game_of_shapes', 'chrysochos_andreas_game_of_shapes', 'chrysochos_andreas_game_of_shapes', 'chrysochos_andreas_game_of_shapes', 'chrysochos_andreas_game_of_shapes', 'chrysochos_andreas_game_of_shapes', 'chrysochos_andreas_game_of_shapes', 'chrysochos_andreas_game_of_shapes', 'chrysochos_andreas_game_of_shapes', 'chrysochos_andreas_game_of_shapes', 'chrysochos_andreas_game_of_shapes', 'chrysochos_andreas_game_of_shapes', 'chrysochos_andreas_game_of_shapes', 'chrysochos_andreas_game_of_shapes', 'chrysochos_andreas_game_of_shapes', 'chrysochos_andreas_game_of_shapes', 'chrysochos_andreas_game_of_shapes', 'chrysochos_andreas_game_of_shapes', 'chrysochos_andreas_game_of_shapes', 'chrysochos_andreas_game_of_shapes', 'chrysochos_andreas_game_of_shapes', 'chrysochos_andreas_game_of_shapes', 'chrysochos_andreas_game_of_shapes', 'chrysochos_andreas_game_of_shapes', 'chrysochos_andreas_game_of_shapes', 'chrysochos_andreas_game_of_shapes', 'chrysochos_andreas_game_of_shapes', 'chrysochos_andreas_game_of_shapes', 'chrysochos_andreas_game_of_shapes', 'chrysochos_andreas_game_of_shapes', 'chrysochos_andreas_game_of_shapes', 'chrysochos_andreas_game_of_shapes', 'chrysochos_andreas_game_of_shapes', 'chrysochos_andreas_game_of_shapes', 'chrysochos_andreas_game_of_shapes', 'chrysochos_andreas_game_of_shapes', 'chrysochos_andreas_game_of_shapes', 'chrysochos_andreas_game_of_shapes', 'chrysochos_andreas_game_of_shapes', 'chrysochos_andreas_game_of_shapes', 'chrysochos_andreas_game_of_shapes', 'chrysochos_andreas_game_of_shapes', 'chrysochos_andreas_game_of_shapes', 'chrysochos_andreas_game_of_shapes', 'chrysochos_andreas_game_of_shapes', 'chrysochos_andreas_game_of_shapes', 'chrysochos_andreas_game_of_shapes', 'chrysochos_andreas_game_of_shapes', 'chrysochos_andreas_game_of_shapes', 'chrysochos_andreas_game_of_shapes', 'chrysochos_andreas_game_of_shapes', 'chrysochos_andreas_game_of_shapes', 'chrysochos_andreas_game_of_shapes', 'chrysochos_andreas_game_of_shapes', 'chrysochos_andreas_game_of_shapes', 'chrysochos_andreas_game_of_shapes', 'chrysochos_andreas_game_of_shapes', 'chrysochos_andreas_game_of_shapes', 'chrysochos_andreas_game_of_shapes', 'chrysochos_andreas_game_of_shapes', 'chrysochos_andreas_game_of_shapes', 'chrysochos_andreas_game_of_shapes', 'chrysochos_andreas_game_of_shapes', 'chrysochos_andreas_game_of_shapes', 'chrysochos_andreas_game_of_shapes', 'chrysochos_andreas_game_of_shapes', 'chrysochos_andreas_game_of_shapes', 'chrysochos_andreas_game_of_shapes', 'chrysochos_andreas_game_of_shapes', 'chrysochos_andreas_game_of_shapes', 'chrysochos_andreas_game_of_shapes', 'chrysochos_andreas_game_of_shapes', 'chrysochos_andreas_game_of_shapes', 'chrysochos_andreas_game_of_shapes', 'chrysochos_andreas_game_of_shapes', 'chrysochos_andreas_game_of_shapes', 'chrysochos_andreas_game_of_shapes', 'chrysochos_andreas_game_of_shapes', 'chrysochos_andreas_game_of_shapes', 'chrysochos_andreas_game_of_shapes', 'chrysochos_andreas_game_of_shapes', 'chrysochos_andreas_game_of_shapes', 'chrysochos_andreas_game_of_shapes', 'chrysochos_andreas_game_of_shapes', 'chrysochos_andreas_game_of_shapes', 'chrysochos_andreas_game_of_shapes', 'chrysochos_andreas_game_of_shapes', 'chrysochos_andreas_game_of_shapes', 'chrysochos_andreas_game_of_shapes', 'chrysochos_andreas_game_of_shapes', 'chrysochos_andreas_game_of_shapes', 'chrysochos_andreas_game_of_shapes', 'chrysochos_andreas_game_of_shapes', 'chrysochos_andreas_game_of_shapes', 'chrysochos_andreas_game_of_shapes', 'chrysochos_andreas_game_of_shapes', 'chrysochos_andreas_game_of_shapes', 'chrysochos_andreas_game_of_shapes', 'chrysochos_andreas_game_of_shapes', 'chrysochos_andreas_game_of_shapes', 'chrysochos_andreas_game_of_shapes', 'chrysochos_andreas_game_of_shapes', 'chrysochos_andreas_game_of_shapes', 'chrysochos_andreas_game_of_shapes', 'chrysochos_andreas_game_of_shapes', 'chrysochos_andreas_game_of_shapes', 'chrysochos_andreas_game_of_shapes', 'chrysochos_andreas_game_of_shapes', 'chrysochos_andreas_game_of_shapes', 'chrysochos_andreas_game_of_shapes', 'chrysochos_andreas_game_of_shapes', 'chrysochos_andreas_game_of_shapes', 'chrysochos_andreas_game_of_shapes', 'chrysochos_andreas_game_of_shapes', 'chrysochos_andreas_game_of_shapes', 'chrysochos_andreas_game_of_shapes', 'chrysochos_andreas_game_of_shapes', 'chrysochos_andreas_game_of_shapes', 'chrysochos_andreas_game_of_shapes', 'chrysochos_andreas_game_of_shapes', 'chrysochos_andreas_game_of_shapes', 'chrysochos_andreas_game_of_shapes', 'chrysochos_andreas_game_of_shapes', 'chrysochos_andreas_game_of_shapes', 'chrysochos_andreas_game_of_shapes', 'chrysochos_andreas_game_of_shapes', 'chrysochos_andreas_game_of_shapes', 'chrysochos_andreas_game_of_shapes', 'chrysochos_andreas_game_of_shapes', 'chrysochos_andreas_game_of_shapes', 'chrysochos_andreas_game_of_shapes', 'chrysochos_andreas_game_of_shapes', 'chrysochos_andreas_game_of_shapes', 'chrysochos_andreas_game_of_shapes', 'chrysochos_andreas_game_of_shapes', 'chrysochos_andreas_game_of_shapes', 'chrysochos_andreas_game_of_shapes', 'chrysochos_andreas_game_of_shapes', 'chrysochos_andreas_game_of_shapes', 'chrysochos_andreas_game_of_shapes', 'chrysochos_andreas_game_of_shapes', 'chrysochos_andreas_game_of_shapes', 'chrysochos_andreas_game_of_shapes', 'chrysochos_andreas_game_of_shapes', 'chrysochos_andreas_game_of_shapes', 'chrysochos_andreas_game_of_shapes', 'chrysochos_andreas_game_of_shapes', 'chrysochos_andreas_game_of_shapes', 'chrysochos_andreas_game_of_shapes', 'chrysochos_andreas_game_of_shapes', 'chrysochos_andreas_game_of_shapes', 'chrysochos_andreas_game_of_shapes', 'chrysochos_andreas_game_of_shapes', 'chrysochos_andreas_game_of_shapes', 'chrysochos_andreas_game_of_shapes', 'chrysochos_andreas_game_of_shapes', 'chrysochos_andreas_game_of_shapes', 'chrysochos_andreas_game_of_shapes', 'chrysochos_andreas_game_of_shapes', 'chrysochos_andreas_game_of_shapes', 'chrysochos_andreas_game_of_shapes', 'chrysochos_andreas_game_of_shapes', 'chrysochos_andreas_game_of_shapes', 'chrysochos_andreas_game_of_shapes', 'chrysochos_andreas_game_of_shapes', 'chrysochos_andreas_game_of_shapes', 'chrysochos_andreas_game_of_shapes', 'ladommatos_andreas_ascent', 'ladommatos_andreas_ascent', 'ladommatos_andreas_ascent', 'ladommatos_andreas_ascent', 'ladommatos_andreas_ascent', 'ladommatos_andreas_ascent', 'ladommatos_andreas_ascent', 'ladommatos_andreas_ascent', 'ladommatos_andreas_ascent', 'ladommatos_andreas_ascent', 'ladommatos_andreas_ascent', 'ladommatos_andreas_ascent', 'ladommatos_andreas_ascent', 'ladommatos_andreas_ascent', 'ladommatos_andreas_ascent', 'ladommatos_andreas_ascent', 'ladommatos_andreas_ascent', 'ladommatos_andreas_ascent', 'ladommatos_andreas_ascent', 'ladommatos_andreas_ascent', 'ladommatos_andreas_ascent', 'ladommatos_andreas_ascent', 'ladommatos_andreas_ascent', 'ladommatos_andreas_ascent', 'ladommatos_andreas_ascent', 'ladommatos_andreas_ascent', 'ladommatos_andreas_ascent', 'ladommatos_andreas_ascent', 'ladommatos_andreas_ascent', 'ladommatos_andreas_ascent', 'ladommatos_andreas_ascent', 'ladommatos_andreas_ascent', 'ladommatos_andreas_ascent', 'ladommatos_andreas_ascent', 'ladommatos_andreas_ascent', 'ladommatos_andreas_ascent', 'ladommatos_andreas_ascent', 'ladommatos_andreas_ascent', 'ladommatos_andreas_ascent', 'ladommatos_andreas_ascent', 'ladommatos_andreas_ascent', 'ladommatos_andreas_ascent', 'ladommatos_andreas_ascent', 'ladommatos_andreas_ascent', 'ladommatos_andreas_ascent', 'ladommatos_andreas_ascent', 'ladommatos_andreas_ascent', 'ladommatos_andreas_ascent', 'ladommatos_andreas_ascent', 'ladommatos_andreas_ascent', 'ladommatos_andreas_ascent', 'ladommatos_andreas_ascent', 'ladommatos_andreas_ascent', 'ladommatos_andreas_ascent', 'ladommatos_andreas_ascent', 'ladommatos_andreas_ascent', 'ladommatos_andreas_ascent', 'ladommatos_andreas_ascent', 'ladommatos_andreas_ascent', 'ladommatos_andreas_ascent', 'ladommatos_andreas_ascent', 'ladommatos_andreas_ascent', 'ladommatos_andreas_ascent', 'ladommatos_andreas_ascent', 'ladommatos_andreas_ascent', 'ladommatos_andreas_ascent', 'ladommatos_andreas_ascent', 'ladommatos_andreas_ascent', 'ladommatos_andreas_ascent', 'ladommatos_andreas_ascent', 'ladommatos_andreas_ascent', 'ladommatos_andreas_ascent', 'ladommatos_andreas_ascent', 'ladommatos_andreas_ascent', 'ladommatos_andreas_ascent', 'ladommatos_andreas_ascent', 'ladommatos_andreas_ascent', 'ladommatos_andreas_ascent', 'ladommatos_andreas_ascent', 'ladommatos_andreas_ascent', 'ladommatos_andreas_ascent', 'ladommatos_andreas_ascent', 'ladommatos_andreas_ascent', 'ladommatos_andreas_ascent', 'ladommatos_andreas_ascent', 'ladommatos_andreas_ascent', 'ladommatos_andreas_ascent', 'ladommatos_andreas_ascent', 'ladommatos_andreas_ascent', 'ladommatos_andreas_ascent', 'ladommatos_andreas_ascent', 'ladommatos_andreas_ascent', 'ladommatos_andreas_ascent', 'ladommatos_andreas_ascent', 'ladommatos_andreas_ascent', 'ladommatos_andreas_ascent', 'ladommatos_andreas_ascent', 'ladommatos_andreas_ascent', 'ladommatos_andreas_ascent', 'ladommatos_andreas_ascent', 'ladommatos_andreas_ascent', 'ladommatos_andreas_ascent', 'ladommatos_andreas_ascent', 'ladommatos_andreas_ascent', 'ladommatos_andreas_ascent', 'ladommatos_andreas_ascent', 'ladommatos_andreas_ascent', 'ladommatos_andreas_ascent', 'ladommatos_andreas_ascent', 'ladommatos_andreas_ascent', 'ladommatos_andreas_ascent', 'ladommatos_andreas_ascent', 'ladommatos_andreas_ascent', 'ladommatos_andreas_ascent', 'ladommatos_andreas_ascent', 'ladommatos_andreas_ascent', 'ladommatos_andreas_ascent', 'ladommatos_andreas_ascent', 'ladommatos_andreas_ascent', 'ladommatos_andreas_ascent', 'ladommatos_andreas_ascent', 'ladommatos_andreas_ascent', 'ladommatos_andreas_ascent', 'ladommatos_andreas_ascent', 'ladommatos_andreas_ascent', 'ladommatos_andreas_ascent', 'ladommatos_andreas_ascent', 'ladommatos_andreas_ascent', 'ladommatos_andreas_ascent', 'ladommatos_andreas_ascent', 'ladommatos_andreas_ascent', 'ladommatos_andreas_ascent', 'ladommatos_andreas_ascent', 'ladommatos_andreas_ascent', 'ladommatos_andreas_ascent', 'ladommatos_andreas_ascent', 'ladommatos_andreas_ascent', 'ladommatos_andreas_ascent', 'ladommatos_andreas_ascent', 'ladommatos_andreas_ascent', 'ladommatos_andreas_ascent', 'ladommatos_andreas_ascent', 'ladommatos_andreas_ascent', 'ladommatos_andreas_ascent', 'ladommatos_andreas_ascent', 'ladommatos_andreas_ascent', 'ladommatos_andreas_ascent', 'ladommatos_andreas_ascent', 'ladommatos_andreas_ascent', 'ladommatos_andreas_ascent', 'ladommatos_andreas_ascent', 'ladommatos_andreas_ascent', 'ladommatos_andreas_ascent', 'ladommatos_andreas_ascent', 'ladommatos_andreas_ascent', 'ladommatos_andreas_ascent', 'ladommatos_andreas_ascent', 'ladommatos_andreas_ascent', 'ladommatos_andreas_ascent', 'ladommatos_andreas_ascent', 'ladommatos_andreas_ascent', 'ladommatos_andreas_ascent', 'ladommatos_andreas_ascent', 'ladommatos_andreas_ascent', 'ladommatos_andreas_ascent', 'ladommatos_andreas_ascent', 'ladommatos_andreas_ascent', 'ladommatos_andreas_ascent', 'ladommatos_andreas_ascent', 'ladommatos_andreas_ascent', 'ladommatos_andreas_ascent', 'ladommatos_andreas_ascent', 'ladommatos_andreas_ascent', 'ladommatos_andreas_ascent', 'ladommatos_andreas_ascent', 'ladommatos_andreas_ascent', 'ladommatos_andreas_ascent', 'ladommatos_andreas_ascent', 'ladommatos_andreas_ascent', 'ladommatos_andreas_ascent', 'ladommatos_andreas_ascent', 'ladommatos_andreas_ascent', 'ladommatos_andreas_ascent', 'ladommatos_andreas_ascent', 'ladommatos_andreas_ascent', 'ladommatos_andreas_ascent', 'ladommatos_andreas_ascent', 'ladommatos_andreas_ascent', 'ladommatos_andreas_ascent', 'ladommatos_andreas_ascent', 'ladommatos_andreas_ascent', 'ladommatos_andreas_ascent', 'ladommatos_andreas_ascent', 'ladommatos_andreas_ascent', 'ladommatos_andreas_ascent', 'ladommatos_andreas_ascent', 'ladommatos_andreas_ascent', 'ladommatos_andreas_ascent', 'ladommatos_andreas_ascent', 'ladommatos_andreas_ascent', 'ladommatos_andreas_ascent', 'ladommatos_andreas_ascent', 'ladommatos_andreas_ascent', 'ladommatos_andreas_ascent', 'ladommatos_andreas_ascent', 'ladommatos_andreas_ascent', 'ladommatos_andreas_ascent', 'ladommatos_andreas_ascent', 'ladommatos_andreas_ascent', 'ladommatos_andreas_ascent', 'ladommatos_andreas_ascent', 'ladommatos_andreas_ascent', 'ladommatos_andreas_ascent', 'ladommatos_andreas_ascent', 'ladommatos_andreas_ascent', 'ladommatos_andreas_ascent', 'ladommatos_andreas_ascent', 'ladommatos_andreas_ascent', 'ladommatos_andreas_ascent', 'ladommatos_andreas_ascent', 'ladommatos_andreas_ascent', 'ladommatos_andreas_ascent', 'ladommatos_andreas_ascent', 'ladommatos_andreas_ascent', 'ladommatos_andreas_ascent', 'ladommatos_andreas_ascent', 'ladommatos_andreas_ascent', 'ladommatos_andreas_ascent', 'ladommatos_andreas_ascent', 'ladommatos_andreas_ascent', 'ladommatos_andreas_ascent', 'ladommatos_andreas_ascent', 'ladommatos_andreas_ascent', 'ladommatos_andreas_ascent', 'ladommatos_andreas_ascent', 'ladommatos_andreas_ascent', 'ladommatos_andreas_ascent', 'ladommatos_andreas_ascent', 'ladommatos_andreas_ascent', 'ladommatos_andreas_ascent', 'ladommatos_andreas_ascent', 'ladommatos_andreas_ascent', 'ladommatos_andreas_ascent', 'ladommatos_andreas_ascent', 'ladommatos_andreas_ascent', 'ladommatos_andreas_ascent', 'ladommatos_andreas_ascent', 'ladommatos_andreas_ascent', 'ladommatos_andreas_ascent', 'ladommatos_andreas_ascent', 'ladommatos_andreas_ascent', 'ladommatos_andreas_ascent', 'ladommatos_andreas_ascent', 'ladommatos_andreas_ascent', 'ladommatos_andreas_ascent', 'ladommatos_andreas_ascent', 'ladommatos_andreas_ascent', 'ladommatos_andreas_ascent', 'ladommatos_andreas_ascent', 'ladommatos_andreas_ascent', 'ladommatos_andreas_ascent', 'ladommatos_andreas_ascent', 'ladommatos_andreas_ascent', 'ladommatos_andreas_ascent', 'ladommatos_andreas_ascent', 'ladommatos_andreas_ascent', 'ladommatos_andreas_ascent', 'ladommatos_andreas_ascent', 'ladommatos_andreas_ascent', 'ladommatos_andreas_ascent', 'ladommatos_andreas_ascent', 'ladommatos_andreas_ascent', 'ladommatos_andreas_ascent', 'ladommatos_andreas_ascent', 'ladommatos_andreas_ascent', 'ladommatos_andreas_ascent', 'ladommatos_andreas_ascent', 'ladommatos_andreas_ascent', 'ladommatos_andreas_ascent', 'ladommatos_andreas_ascent', 'ladommatos_andreas_ascent', 'ladommatos_andreas_ascent', 'ladommatos_andreas_ascent']\n",
            "[0 0 0 ... 7 7 7]\n",
            "(3658, 224, 224, 3) (3658,)\n",
            "Done!\n",
            "Training neural network...\n",
            "Downloading data from https://storage.googleapis.com/tensorflow/keras-applications/vgg19/vgg19_weights_tf_dim_ordering_tf_kernels_notop.h5\n",
            "80142336/80134624 [==============================] - 1s 0us/step\n",
            "Epoch 1/20\n",
            "37/37 [==============================] - 44s 1s/step - loss: 1.1756 - accuracy: 0.6419 - val_loss: 0.0847 - val_accuracy: 0.9966\n",
            "Epoch 2/20\n",
            "37/37 [==============================] - 37s 996ms/step - loss: 0.1666 - accuracy: 0.9675 - val_loss: 0.0359 - val_accuracy: 0.9949\n",
            "Epoch 3/20\n",
            "37/37 [==============================] - 37s 1s/step - loss: 0.0935 - accuracy: 0.9833 - val_loss: 0.0213 - val_accuracy: 1.0000\n",
            "Epoch 4/20\n",
            "37/37 [==============================] - 37s 997ms/step - loss: 0.0624 - accuracy: 0.9919 - val_loss: 0.0068 - val_accuracy: 1.0000\n",
            "Epoch 5/20\n",
            "37/37 [==============================] - 37s 997ms/step - loss: 0.0403 - accuracy: 0.9974 - val_loss: 0.0052 - val_accuracy: 1.0000\n",
            "Epoch 6/20\n",
            "37/37 [==============================] - 37s 999ms/step - loss: 0.0372 - accuracy: 0.9966 - val_loss: 0.0042 - val_accuracy: 1.0000\n",
            "Epoch 7/20\n",
            "37/37 [==============================] - 37s 994ms/step - loss: 0.0318 - accuracy: 0.9940 - val_loss: 0.0029 - val_accuracy: 1.0000\n",
            "Epoch 8/20\n",
            "37/37 [==============================] - 37s 997ms/step - loss: 0.0232 - accuracy: 0.9974 - val_loss: 0.0027 - val_accuracy: 1.0000\n",
            "Epoch 9/20\n",
            "37/37 [==============================] - 37s 995ms/step - loss: 0.0187 - accuracy: 0.9983 - val_loss: 0.0015 - val_accuracy: 1.0000\n",
            "Epoch 10/20\n",
            "37/37 [==============================] - 37s 993ms/step - loss: 0.0183 - accuracy: 0.9979 - val_loss: 0.0019 - val_accuracy: 1.0000\n",
            "Epoch 11/20\n",
            "37/37 [==============================] - 37s 998ms/step - loss: 0.0203 - accuracy: 0.9983 - val_loss: 0.0014 - val_accuracy: 1.0000\n",
            "Epoch 12/20\n",
            "37/37 [==============================] - 37s 999ms/step - loss: 0.0168 - accuracy: 0.9979 - val_loss: 0.0019 - val_accuracy: 1.0000\n",
            "Epoch 13/20\n",
            "37/37 [==============================] - 37s 1s/step - loss: 0.0134 - accuracy: 0.9983 - val_loss: 9.3477e-04 - val_accuracy: 1.0000\n",
            "Epoch 14/20\n",
            "37/37 [==============================] - 37s 1s/step - loss: 0.0112 - accuracy: 0.9983 - val_loss: 0.0012 - val_accuracy: 1.0000\n",
            "Epoch 15/20\n",
            "37/37 [==============================] - 37s 1s/step - loss: 0.0145 - accuracy: 0.9979 - val_loss: 0.0013 - val_accuracy: 1.0000\n",
            "Epoch 16/20\n",
            "37/37 [==============================] - 37s 1s/step - loss: 0.0100 - accuracy: 0.9991 - val_loss: 9.1114e-04 - val_accuracy: 1.0000\n",
            "Epoch 17/20\n",
            "37/37 [==============================] - 37s 998ms/step - loss: 0.0101 - accuracy: 1.0000 - val_loss: 5.7240e-04 - val_accuracy: 1.0000\n",
            "Epoch 18/20\n",
            "37/37 [==============================] - 37s 1s/step - loss: 0.0063 - accuracy: 1.0000 - val_loss: 7.0814e-04 - val_accuracy: 1.0000\n",
            "Epoch 19/20\n",
            "37/37 [==============================] - 37s 1s/step - loss: 0.0072 - accuracy: 0.9996 - val_loss: 5.2812e-04 - val_accuracy: 1.0000\n",
            "Epoch 20/20\n",
            "37/37 [==============================] - 37s 1s/step - loss: 0.0064 - accuracy: 0.9996 - val_loss: 4.3120e-04 - val_accuracy: 1.0000\n",
            "Training complete.\n",
            "23/23 [==============================] - 9s 371ms/step - loss: 3.1762e-04 - accuracy: 1.0000\n",
            "Done!\n",
            "WARNING:tensorflow:From /usr/local/lib/python3.6/dist-packages/tensorflow/python/training/tracking/tracking.py:111: Model.state_updates (from tensorflow.python.keras.engine.training) is deprecated and will be removed in a future version.\n",
            "Instructions for updating:\n",
            "This property should not be used in TensorFlow 2.0, as updates are applied automatically.\n",
            "WARNING:tensorflow:From /usr/local/lib/python3.6/dist-packages/tensorflow/python/training/tracking/tracking.py:111: Layer.updates (from tensorflow.python.keras.engine.base_layer) is deprecated and will be removed in a future version.\n",
            "Instructions for updating:\n",
            "This property should not be used in TensorFlow 2.0, as updates are applied automatically.\n",
            "INFO:tensorflow:Assets written to: /content/drive/My Drive/Colab Notebooks/Modern_Art_CNN/cnn224RGB_VGG19/saved_model/assets\n",
            "Converting neural network to TFLite... Done!\n",
            "Test loss: 0.0003176155732944608\n",
            "Test accuracy: 1.0\n"
          ],
          "name": "stdout"
        }
      ]
    },
    {
      "cell_type": "markdown",
      "metadata": {
        "id": "jl-f4f4MRiZG",
        "colab_type": "text"
      },
      "source": [
        "## Results"
      ]
    },
    {
      "cell_type": "markdown",
      "metadata": {
        "id": "0LtT8IVUoTCi",
        "colab_type": "text"
      },
      "source": [
        "### Summary"
      ]
    },
    {
      "cell_type": "code",
      "metadata": {
        "id": "U5z1gWJnjhyx",
        "colab_type": "code",
        "colab": {
          "base_uri": "https://localhost:8080/",
          "height": 282
        },
        "outputId": "a43c04c3-913d-4c7f-9c3e-2187ddd50684"
      },
      "source": [
        "from IPython.display import HTML, display\n",
        "import tabulate\n",
        "pd.options.display.float_format = '{:,.3f}'.format\n",
        "print( \"Test accuracy:\", cnn224RGB_VGG19[\"test_eval\"][1], \"\\n\\nTest loss:\", cnn64[\"test_eval\"][0], \"\\n\")\n",
        "display(HTML(cnn224RGB_VGG19[\"report\"].to_html()))"
      ],
      "execution_count": null,
      "outputs": [
        {
          "output_type": "stream",
          "text": [
            "Test accuracy: 1.0 \n",
            "\n",
            "Test loss: 0.0003176155732944608 \n",
            "\n"
          ],
          "name": "stdout"
        },
        {
          "output_type": "display_data",
          "data": {
            "text/html": [
              "<table border=\"1\" class=\"dataframe\">\n",
              "  <thead>\n",
              "    <tr style=\"text-align: right;\">\n",
              "      <th></th>\n",
              "      <th>bargilly_andis_secession</th>\n",
              "      <th>chrysochos_andreas_autumn</th>\n",
              "      <th>chrysochos_andreas_game_of_shapes</th>\n",
              "      <th>chrysochos_andreas_throne_ii</th>\n",
              "      <th>hadjida_vera_ground_plan</th>\n",
              "      <th>hadjida_vera_untitled</th>\n",
              "      <th>kouroussis_nicos_untitled</th>\n",
              "      <th>ladommatos_andreas_ascent</th>\n",
              "      <th>phinikarides_michael_armament</th>\n",
              "      <th>sfikas_george_2-3</th>\n",
              "      <th>votsis_stelios_presence</th>\n",
              "      <th>votsis_stelios_the_cyclist</th>\n",
              "      <th>votsis_stelios_untitled</th>\n",
              "      <th>accuracy</th>\n",
              "      <th>macro avg</th>\n",
              "      <th>weighted avg</th>\n",
              "    </tr>\n",
              "  </thead>\n",
              "  <tbody>\n",
              "    <tr>\n",
              "      <th>precision</th>\n",
              "      <td>1.000</td>\n",
              "      <td>1.000</td>\n",
              "      <td>1.000</td>\n",
              "      <td>1.000</td>\n",
              "      <td>1.000</td>\n",
              "      <td>1.000</td>\n",
              "      <td>1.000</td>\n",
              "      <td>1.000</td>\n",
              "      <td>1.000</td>\n",
              "      <td>1.000</td>\n",
              "      <td>1.000</td>\n",
              "      <td>1.000</td>\n",
              "      <td>1.000</td>\n",
              "      <td>1.000</td>\n",
              "      <td>1.000</td>\n",
              "      <td>1.000</td>\n",
              "    </tr>\n",
              "    <tr>\n",
              "      <th>recall</th>\n",
              "      <td>1.000</td>\n",
              "      <td>1.000</td>\n",
              "      <td>1.000</td>\n",
              "      <td>1.000</td>\n",
              "      <td>1.000</td>\n",
              "      <td>1.000</td>\n",
              "      <td>1.000</td>\n",
              "      <td>1.000</td>\n",
              "      <td>1.000</td>\n",
              "      <td>1.000</td>\n",
              "      <td>1.000</td>\n",
              "      <td>1.000</td>\n",
              "      <td>1.000</td>\n",
              "      <td>1.000</td>\n",
              "      <td>1.000</td>\n",
              "      <td>1.000</td>\n",
              "    </tr>\n",
              "    <tr>\n",
              "      <th>f1-score</th>\n",
              "      <td>1.000</td>\n",
              "      <td>1.000</td>\n",
              "      <td>1.000</td>\n",
              "      <td>1.000</td>\n",
              "      <td>1.000</td>\n",
              "      <td>1.000</td>\n",
              "      <td>1.000</td>\n",
              "      <td>1.000</td>\n",
              "      <td>1.000</td>\n",
              "      <td>1.000</td>\n",
              "      <td>1.000</td>\n",
              "      <td>1.000</td>\n",
              "      <td>1.000</td>\n",
              "      <td>1.000</td>\n",
              "      <td>1.000</td>\n",
              "      <td>1.000</td>\n",
              "    </tr>\n",
              "    <tr>\n",
              "      <th>support</th>\n",
              "      <td>57.000</td>\n",
              "      <td>56.000</td>\n",
              "      <td>52.000</td>\n",
              "      <td>53.000</td>\n",
              "      <td>73.000</td>\n",
              "      <td>56.000</td>\n",
              "      <td>46.000</td>\n",
              "      <td>71.000</td>\n",
              "      <td>51.000</td>\n",
              "      <td>56.000</td>\n",
              "      <td>52.000</td>\n",
              "      <td>48.000</td>\n",
              "      <td>61.000</td>\n",
              "      <td>1.000</td>\n",
              "      <td>732.000</td>\n",
              "      <td>732.000</td>\n",
              "    </tr>\n",
              "  </tbody>\n",
              "</table>"
            ],
            "text/plain": [
              "<IPython.core.display.HTML object>"
            ]
          },
          "metadata": {
            "tags": []
          }
        }
      ]
    },
    {
      "cell_type": "markdown",
      "metadata": {
        "colab_type": "text",
        "id": "VBxiVkCGo6OQ"
      },
      "source": [
        "### Training history"
      ]
    },
    {
      "cell_type": "code",
      "metadata": {
        "id": "unZIKtvERnHT",
        "colab_type": "code",
        "colab": {
          "base_uri": "https://localhost:8080/",
          "height": 573
        },
        "outputId": "43cddeba-d9df-4290-8faa-ebdb4323070f"
      },
      "source": [
        "epochs = 20\n",
        "ep = range(epochs)\n",
        "plt.plot(ep, cnn224RGB_VGG19[\"accuracy\"], \"bo\",  label='Training accuracy')\n",
        "plt.plot(ep, cnn224RGB_VGG19[\"val_accuracy\"], \"b\",  label='Validation accuracy')\n",
        "plt.xlabel(\"Epochs\")\n",
        "plt.title(\"Training and validation accuracy\")\n",
        "plt.legend()\n",
        "\n",
        "plt.figure()\n",
        "\n",
        "plt.plot(ep, cnn224RGB_VGG19[\"loss\"], \"bo\", label='Training loss', color =\"red\")\n",
        "plt.plot(ep, cnn224RGB_VGG19[\"val_loss\"], \"b\", label='Validation loss', color =\"red\")\n",
        "plt.xlabel(\"Epochs\")\n",
        "plt.title(\"Training and validation loss\")\n",
        "plt.legend()\n",
        "plt.show()"
      ],
      "execution_count": null,
      "outputs": [
        {
          "output_type": "display_data",
          "data": {
            "image/png": "[encoded data removed]",
            "text/plain": [
              "<Figure size 432x288 with 1 Axes>"
            ]
          },
          "metadata": {
            "tags": [],
            "needs_background": "light"
          }
        },
        {
          "output_type": "display_data",
          "data": {
            "image/png": "[encoded data removed]",
            "text/plain": [
              "<Figure size 432x288 with 1 Axes>"
            ]
          },
          "metadata": {
            "tags": [],
            "needs_background": "light"
          }
        }
      ]
    },
    {
      "cell_type": "markdown",
      "metadata": {
        "id": "19TIlmDGpA2a",
        "colab_type": "text"
      },
      "source": [
        "### Confusion matrix"
      ]
    },
    {
      "cell_type": "code",
      "metadata": {
        "id": "nBWQxD6YeuWY",
        "colab_type": "code",
        "colab": {
          "base_uri": "https://localhost:8080/",
          "height": 406
        },
        "outputId": "e7602bed-2380-4647-8e4f-6419737c2995"
      },
      "source": [
        "cm = confusion_matrix(cnn224RGB_VGG19[\"test_Y\"], cnn224RGB_VGG19[\"predicted_classes\"])\n",
        "df_cm = pd.DataFrame(cm, class_list, class_list)\n",
        "sn.set(font_scale=.7)\n",
        "sn.heatmap(df_cm, vmin=0, annot=True, \n",
        "            cmap=\"YlGnBu\", fmt=\"d\", \n",
        "            linewidths=0.1, linecolor=\"black\")\n",
        "plt.show()"
      ],
      "execution_count": null,
      "outputs": [
        {
          "output_type": "display_data",
          "data": {
            "image/png": "[encoded data removed]",
            "text/plain": [
              "<Figure size 432x288 with 2 Axes>"
            ]
          },
          "metadata": {
            "tags": []
          }
        }
      ]
    },
    {
      "cell_type": "markdown",
      "metadata": {
        "id": "OJXLN_T3pHfQ",
        "colab_type": "text"
      },
      "source": [
        "### Prediction examples"
      ]
    },
    {
      "cell_type": "code",
      "metadata": {
        "id": "VbGccE7ujPNB",
        "colab_type": "code",
        "colab": {}
      },
      "source": [
        "# target_size = 224\n",
        "# class_dict_rev = {v:k for k, v in artwork_dict.items()}\n",
        "# correct = np.where(cnn224RGB_VGG19[\"predicted_classes\"]==cnn224RGB_VGG19[\"test_Y\"])[0]\n",
        "# print(f\"Found {len(correct)} correct labels\")\n",
        "# for i, correct in enumerate(correct[:9]):\n",
        "#   pred, actual = class_dict_rev[cnn224RGB_VGG19['predicted_classes'][correct]], class_dict_rev[cnn224RGB_VGG19['test_Y'][correct]]\n",
        "#   plt.subplot(3,3,i+1)\n",
        "#   plt.imshow(cnn224RGB_VGG19[\"test_X\"][correct].reshape(target_size, target_size, 3), cmap='gray', interpolation='none')\n",
        "#   plt.grid(None)\n",
        "#   plt.title(f\"pred: {pred}, actual: {actual}\")\n",
        "#   plt.tight_layout()"
      ],
      "execution_count": null,
      "outputs": []
    },
    {
      "cell_type": "code",
      "metadata": {
        "id": "h74R9jvlTUZm",
        "colab_type": "code",
        "colab": {}
      },
      "source": [
        "# incorrect = np.where(cnn64[\"predicted_classes\"]!=cnn64[\"test_Y\"])[0]\n",
        "# print(f\"Found {len(incorrect)} incorrect labels\")\n",
        "# for i, incorrect in enumerate(incorrect[:9]):\n",
        "#   pred, actual = class_dict_rev[cnn64['predicted_classes'][incorrect]], class_dict_rev[cnn64['test_Y'][incorrect]]\n",
        "#   plt.subplot(3,3,i+1)\n",
        "#   plt.imshow(cnn64[\"test_X\"][incorrect].reshape(target_size, target_size), cmap='gray', interpolation='none')\n",
        "#   plt.grid(None)\n",
        "#   plt.title(f\"pred: {pred}, actual: {actual}\")\n",
        "#   plt.tight_layout()"
      ],
      "execution_count": null,
      "outputs": []
    },
    {
      "cell_type": "markdown",
      "metadata": {
        "id": "WU5Y5wEaAnJy",
        "colab_type": "text"
      },
      "source": [
        "## Testing (NOT UPDATED FOR MODERN ART)"
      ]
    },
    {
      "cell_type": "code",
      "metadata": {
        "id": "XFpGuWiqAmeV",
        "colab_type": "code",
        "colab": {}
      },
      "source": [
        "interpreter = tf.lite.Interpreter(model_path=os.path.join(base_dir,\"saved_models\",\"cnn64RGB.tflite\"))\n",
        "interpreter.allocate_tensors()"
      ],
      "execution_count": null,
      "outputs": []
    },
    {
      "cell_type": "code",
      "metadata": {
        "id": "2UeH2VXlPK2F",
        "colab_type": "code",
        "colab": {}
      },
      "source": [
        "with open(fp, \"r\") as f:\n",
        "    processed = pd.read_csv(f)\n",
        "\n",
        "processed.shape"
      ],
      "execution_count": null,
      "outputs": []
    },
    {
      "cell_type": "code",
      "metadata": {
        "id": "8p_sUVW5BMCI",
        "colab_type": "code",
        "colab": {}
      },
      "source": [
        "input_details = interpreter.get_input_details()\n",
        "output_details = interpreter.get_output_details()\n",
        "\n",
        "# Test the converted tflite model with original dataset\n",
        "predictions=[]\n",
        "for i in range(1,processed.shape[0]):\n",
        "    input_data = processed.iloc[i-1:i,:-1].to_numpy().reshape(-1,64,64,3).astype(\"float32\")/255.\n",
        "    actual = processed.iloc[i-1:i,-1:].to_numpy()[0]\n",
        "\n",
        "    interpreter.set_tensor(input_details[0]['index'], input_data)\n",
        "\n",
        "    interpreter.invoke()\n",
        "\n",
        "    # The function `get_tensor()` returns a copy of the tensor data.\n",
        "    # Use `tensor()` in order to get a pointer to the tensor.\n",
        "    output_data = interpreter.get_tensor(output_details[0]['index'])\n",
        "    \n",
        "    predictions.append(output_data.argmax() == actual)\n",
        "    # print(i, \"predicted\", output_data.argmax(), \"actual\", actual)\n",
        "\n",
        "print(\"Correctly identified photos:\",f\"{sum(predictions)[0]}/{processed.shape[0]}\", \n",
        "      f\"({sum(predictions)[0]/processed.shape[0]:.2%})\")"
      ],
      "execution_count": null,
      "outputs": []
    },
    {
      "cell_type": "code",
      "metadata": {
        "id": "1vmRmuAELSLl",
        "colab_type": "code",
        "colab": {}
      },
      "source": [
        "# test with original photos that have only 1 label each, without cropping\n",
        "\n",
        "one_label = dataset['photo'].value_counts()[lambda x: x==1].index.tolist()\n",
        "\n",
        "photos_1_label = dataset[dataset['photo'].isin(one_label)]\n",
        "photos_1_label.shape\n",
        "\n",
        "predictions_1_label=[]\n",
        "\n",
        "for i, row in photos_1_label.iterrows():\n",
        "    # get photo\n",
        "    photo_array = cv2.imread(os.path.join(photo_dir, row[\"photo\"]))\n",
        "\n",
        "    # crop and resize\n",
        "    photo_array = cv2.resize(photo_array, (64, 64), interpolation=cv2.INTER_AREA)\n",
        "\n",
        "    input_data = photo_array.reshape(-1,64,64,3).astype(\"float32\")/255.\n",
        "    actual = class_dict[row[\"class\"]]\n",
        "    if i < 40:\n",
        "        print(input_data)\n",
        "    interpreter.set_tensor(input_details[0]['index'], input_data)\n",
        "\n",
        "    interpreter.invoke()\n",
        "\n",
        "    # The function `get_tensor()` returns a copy of the tensor data.\n",
        "    # Use `tensor()` in order to get a pointer to the tensor.\n",
        "    output_data = interpreter.get_tensor(output_details[0]['index'])\n",
        "    \n",
        "    predictions_1_label.append(output_data.argmax() == actual)\n",
        "    # print(i, \"predicted\", output_data.argmax(), \"actual\", actual)\n",
        "\n",
        "print(\"Correctly identified photos:\",f\"{sum(predictions_1_label)}/{photos_1_label.shape[0]}\", \n",
        "      f\"({sum(predictions_1_label)/photos_1_label.shape[0]:.2%})\")"
      ],
      "execution_count": null,
      "outputs": []
    },
    {
      "cell_type": "code",
      "metadata": {
        "id": "78T1Y3V_LbhS",
        "colab_type": "code",
        "colab": {}
      },
      "source": [
        "from glob import glob\n",
        "\n",
        "for model in glob(os.path.join(base_dir,\"saved_models\",\"*.tflite\"),recursive=True):\n",
        "    interpreter = tf.lite.Interpreter(model)\n",
        "    interpreter.allocate_tensors()\n",
        "    input_details = interpreter.get_input_details()\n",
        "    print(os.path.split(model)[1],\"\\n\", interpreter.get_input_details(),\"\\n\",interpreter.get_output_details())"
      ],
      "execution_count": null,
      "outputs": []
    },
    {
      "cell_type": "code",
      "metadata": {
        "id": "5b3HITb0dgDW",
        "colab_type": "code",
        "colab": {}
      },
      "source": [
        "pip install tflite-support"
      ],
      "execution_count": null,
      "outputs": []
    }
  ]
}